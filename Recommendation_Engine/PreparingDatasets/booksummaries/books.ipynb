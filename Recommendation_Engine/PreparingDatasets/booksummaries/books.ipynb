{
 "metadata": {
  "language_info": {
   "codemirror_mode": {
    "name": "ipython",
    "version": 3
   },
   "file_extension": ".py",
   "mimetype": "text/x-python",
   "name": "python",
   "nbconvert_exporter": "python",
   "pygments_lexer": "ipython3",
   "version": "3.9.2"
  },
  "orig_nbformat": 2,
  "kernelspec": {
   "name": "python3",
   "display_name": "Python 3.9.2 64-bit",
   "metadata": {
    "interpreter": {
     "hash": "578ce72e72bd9f13049fd4c13d9f5b1c81715c13ddea0a3c61ff70756cb5d6d4"
    }
   }
  }
 },
 "nbformat": 4,
 "nbformat_minor": 2,
 "cells": [
  {
   "cell_type": "code",
   "execution_count": 13,
   "metadata": {},
   "outputs": [],
   "source": [
    "import pandas as pd\n",
    "import numpy as np\n",
    "import json\n",
    "import nltk\n",
    "import re\n",
    "import csv\n",
    "import matplotlib.pyplot as plt\n",
    "from tqdm import tqdm\n",
    "%matplotlib inline\n",
    "pd.set_option('display.max_colwidth', 300)"
   ]
  },
  {
   "cell_type": "code",
   "execution_count": 18,
   "metadata": {},
   "outputs": [
    {
     "output_type": "stream",
     "name": "stderr",
     "text": [
      "16559it [00:01, 10546.50it/s]\n"
     ]
    }
   ],
   "source": [
    "data = []\n",
    "with open(\"booksummaries.txt\", 'r',encoding=\"UTF-8\") as f:\n",
    "    reader = csv.reader(f,dialect='excel-tab')\n",
    "    for row in tqdm(reader):\n",
    "        data.append(row)"
   ]
  },
  {
   "cell_type": "code",
   "execution_count": 19,
   "metadata": {},
   "outputs": [
    {
     "output_type": "stream",
     "name": "stderr",
     "text": [
      "100%|██████████| 16559/16559 [00:00<00:00, 790645.69it/s]\n"
     ]
    },
    {
     "output_type": "execute_result",
     "data": {
      "text/plain": [
       "  book_id                                  book_name  \\\n",
       "0     620                                Animal Farm   \n",
       "1     843                         A Clockwork Orange   \n",
       "2     986                                 The Plague   \n",
       "3    1756  An Enquiry Concerning Human Understanding   \n",
       "4    2080                       A Fire Upon the Deep   \n",
       "\n",
       "                                                                                                                                                                                  genre  \\\n",
       "0                              {\"/m/016lj8\": \"Roman \\u00e0 clef\", \"/m/06nbt\": \"Satire\", \"/m/0dwly\": \"Children's literature\", \"/m/014dfn\": \"Speculative fiction\", \"/m/02xlf\": \"Fiction\"}   \n",
       "1  {\"/m/06n90\": \"Science Fiction\", \"/m/0l67h\": \"Novella\", \"/m/014dfn\": \"Speculative fiction\", \"/m/0c082\": \"Utopian and dystopian fiction\", \"/m/06nbt\": \"Satire\", \"/m/02xlf\": \"Fiction\"}   \n",
       "2                                                                           {\"/m/02m4t\": \"Existentialism\", \"/m/02xlf\": \"Fiction\", \"/m/0pym5\": \"Absurdist fiction\", \"/m/05hgj\": \"Novel\"}   \n",
       "3                                                                                                                                                                                         \n",
       "4                                {\"/m/03lrw\": \"Hard science fiction\", \"/m/06n90\": \"Science Fiction\", \"/m/014dfn\": \"Speculative fiction\", \"/m/01hmnh\": \"Fantasy\", \"/m/02xlf\": \"Fiction\"}   \n",
       "\n",
       "                                                                                                                                                                                                                                                                                                       summary  \n",
       "0   Old Major, the old boar on the Manor Farm, calls the animals on the farm for a meeting, where he compares the humans to parasites and teaches the animals a revolutionary song, 'Beasts of England'. When Major dies, two young pigs, Snowball and Napoleon, assume command and turn his dream into a p...  \n",
       "1   Alex, a teenager living in near-future England, leads his gang on nightly orgies of opportunistic, random \"ultra-violence.\" Alex's friends (\"droogs\" in the novel's Anglo-Russian slang, Nadsat) are: Dim, a slow-witted bruiser who is the gang's muscle; Georgie, an ambitious second-in-command; and...  \n",
       "2   The text of The Plague is divided into five parts. In the town of Oran, thousands of rats, initially unnoticed by the populace, begin to die in the streets. A hysteria develops soon afterward, causing the local newspapers to report the incident. Authorities responding to public pressure order t...  \n",
       "3   The argument of the Enquiry proceeds by a series of incremental steps, separated into chapters which logically succeed one another. After expounding his epistemology, Hume explains how to apply his principles to specific topics. In the first section of the Enquiry, Hume provides a rough introdu...  \n",
       "4   The novel posits that space around the Milky Way is divided into concentric layers called Zones, each being constrained by different laws of physics and each allowing for different degrees of biological and technological advancement. The innermost, the \"Unthinking Depths\", surrounds the galacti...  "
      ],
      "text/html": "<div>\n<style scoped>\n    .dataframe tbody tr th:only-of-type {\n        vertical-align: middle;\n    }\n\n    .dataframe tbody tr th {\n        vertical-align: top;\n    }\n\n    .dataframe thead th {\n        text-align: right;\n    }\n</style>\n<table border=\"1\" class=\"dataframe\">\n  <thead>\n    <tr style=\"text-align: right;\">\n      <th></th>\n      <th>book_id</th>\n      <th>book_name</th>\n      <th>genre</th>\n      <th>summary</th>\n    </tr>\n  </thead>\n  <tbody>\n    <tr>\n      <th>0</th>\n      <td>620</td>\n      <td>Animal Farm</td>\n      <td>{\"/m/016lj8\": \"Roman \\u00e0 clef\", \"/m/06nbt\": \"Satire\", \"/m/0dwly\": \"Children's literature\", \"/m/014dfn\": \"Speculative fiction\", \"/m/02xlf\": \"Fiction\"}</td>\n      <td>Old Major, the old boar on the Manor Farm, calls the animals on the farm for a meeting, where he compares the humans to parasites and teaches the animals a revolutionary song, 'Beasts of England'. When Major dies, two young pigs, Snowball and Napoleon, assume command and turn his dream into a p...</td>\n    </tr>\n    <tr>\n      <th>1</th>\n      <td>843</td>\n      <td>A Clockwork Orange</td>\n      <td>{\"/m/06n90\": \"Science Fiction\", \"/m/0l67h\": \"Novella\", \"/m/014dfn\": \"Speculative fiction\", \"/m/0c082\": \"Utopian and dystopian fiction\", \"/m/06nbt\": \"Satire\", \"/m/02xlf\": \"Fiction\"}</td>\n      <td>Alex, a teenager living in near-future England, leads his gang on nightly orgies of opportunistic, random \"ultra-violence.\" Alex's friends (\"droogs\" in the novel's Anglo-Russian slang, Nadsat) are: Dim, a slow-witted bruiser who is the gang's muscle; Georgie, an ambitious second-in-command; and...</td>\n    </tr>\n    <tr>\n      <th>2</th>\n      <td>986</td>\n      <td>The Plague</td>\n      <td>{\"/m/02m4t\": \"Existentialism\", \"/m/02xlf\": \"Fiction\", \"/m/0pym5\": \"Absurdist fiction\", \"/m/05hgj\": \"Novel\"}</td>\n      <td>The text of The Plague is divided into five parts. In the town of Oran, thousands of rats, initially unnoticed by the populace, begin to die in the streets. A hysteria develops soon afterward, causing the local newspapers to report the incident. Authorities responding to public pressure order t...</td>\n    </tr>\n    <tr>\n      <th>3</th>\n      <td>1756</td>\n      <td>An Enquiry Concerning Human Understanding</td>\n      <td></td>\n      <td>The argument of the Enquiry proceeds by a series of incremental steps, separated into chapters which logically succeed one another. After expounding his epistemology, Hume explains how to apply his principles to specific topics. In the first section of the Enquiry, Hume provides a rough introdu...</td>\n    </tr>\n    <tr>\n      <th>4</th>\n      <td>2080</td>\n      <td>A Fire Upon the Deep</td>\n      <td>{\"/m/03lrw\": \"Hard science fiction\", \"/m/06n90\": \"Science Fiction\", \"/m/014dfn\": \"Speculative fiction\", \"/m/01hmnh\": \"Fantasy\", \"/m/02xlf\": \"Fiction\"}</td>\n      <td>The novel posits that space around the Milky Way is divided into concentric layers called Zones, each being constrained by different laws of physics and each allowing for different degrees of biological and technological advancement. The innermost, the \"Unthinking Depths\", surrounds the galacti...</td>\n    </tr>\n  </tbody>\n</table>\n</div>"
     },
     "metadata": {},
     "execution_count": 19
    }
   ],
   "source": [
    "book_id = []\n",
    "book_name = []\n",
    "summary = []\n",
    "genre = []\n",
    "\n",
    "for i in tqdm(data):\n",
    "    book_id.append(i[0])\n",
    "    book_name.append(i[2])\n",
    "    genre.append(i[5])\n",
    "    summary.append(i[6])\n",
    "\n",
    "books = pd.DataFrame({'book_id':book_id,'book_name':book_name,'genre':genre,'summary':summary})\n",
    "books.head()"
   ]
  },
  {
   "cell_type": "code",
   "execution_count": 21,
   "metadata": {},
   "outputs": [
    {
     "output_type": "execute_result",
     "data": {
      "text/plain": [
       "(16559, 4)"
      ]
     },
     "metadata": {},
     "execution_count": 21
    }
   ],
   "source": [
    "books.shape"
   ]
  },
  {
   "cell_type": "code",
   "execution_count": 25,
   "metadata": {},
   "outputs": [
    {
     "output_type": "execute_result",
     "data": {
      "text/plain": [
       "Empty DataFrame\n",
       "Columns: [book_id, book_name, genre, summary]\n",
       "Index: []"
      ],
      "text/html": "<div>\n<style scoped>\n    .dataframe tbody tr th:only-of-type {\n        vertical-align: middle;\n    }\n\n    .dataframe tbody tr th {\n        vertical-align: top;\n    }\n\n    .dataframe thead th {\n        text-align: right;\n    }\n</style>\n<table border=\"1\" class=\"dataframe\">\n  <thead>\n    <tr style=\"text-align: right;\">\n      <th></th>\n      <th>book_id</th>\n      <th>book_name</th>\n      <th>genre</th>\n      <th>summary</th>\n    </tr>\n  </thead>\n  <tbody>\n  </tbody>\n</table>\n</div>"
     },
     "metadata": {},
     "execution_count": 25
    }
   ],
   "source": [
    "books.drop(books[books['genre']==''].index, inplace=True)\n",
    "books[books['genre']=='']"
   ]
  },
  {
   "cell_type": "code",
   "execution_count": 26,
   "metadata": {},
   "outputs": [
    {
     "output_type": "execute_result",
     "data": {
      "text/plain": [
       "dict_values(['Roman à clef', 'Satire', \"Children's literature\", 'Speculative fiction', 'Fiction'])"
      ]
     },
     "metadata": {},
     "execution_count": 26
    }
   ],
   "source": [
    "json.loads(books['genre'][0]).values()"
   ]
  },
  {
   "cell_type": "code",
   "execution_count": 27,
   "metadata": {},
   "outputs": [],
   "source": [
    "genres = []\n",
    "for i in books['genre']:\n",
    "    genres.append(list(json.loads(i).values()))\n",
    "books.genre = genres"
   ]
  },
  {
   "cell_type": "code",
   "execution_count": 28,
   "metadata": {},
   "outputs": [
    {
     "output_type": "execute_result",
     "data": {
      "text/plain": [
       "227"
      ]
     },
     "metadata": {},
     "execution_count": 28
    }
   ],
   "source": [
    "all_genres = sum(genres,[])\n",
    "len(set(all_genres))"
   ]
  },
  {
   "cell_type": "code",
   "execution_count": 39,
   "metadata": {},
   "outputs": [],
   "source": [
    "def clean_summ(txt):\n",
    "    txt = re.sub(\"\\ ' \",\"\",txt)\n",
    "    txt = re.sub(\"[^a-zA-Z]\", \" \",txt)\n",
    "    txt = ' '.join(txt.split())\n",
    "    txt = txt.lower()\n",
    "    return txt"
   ]
  },
  {
   "cell_type": "code",
   "execution_count": 40,
   "metadata": {},
   "outputs": [
    {
     "output_type": "execute_result",
     "data": {
      "text/plain": [
       "  book_id           book_name  \\\n",
       "0     620         Animal Farm   \n",
       "1     843  A Clockwork Orange   \n",
       "\n",
       "                                                                                             genre  \\\n",
       "0                      [Roman à clef, Satire, Children's literature, Speculative fiction, Fiction]   \n",
       "1  [Science Fiction, Novella, Speculative fiction, Utopian and dystopian fiction, Satire, Fiction]   \n",
       "\n",
       "                                                                                                                                                                                                                                                                                                       summary  \n",
       "0  old major the old boar on the manor farm calls the animals on the farm for a meeting where he compares the humans to parasites and teaches the animals a revolutionary song beasts of england when major dies two young pigs snowball and napoleon assume command and turn his dream into a philosophy t...  \n",
       "1  alex a teenager living in near future england leads his gang on nightly orgies of opportunistic random ultra violence alex s friends droogs in the novel s anglo russian slang nadsat are dim a slow witted bruiser who is the gang s muscle georgie an ambitious second in command and pete who mostly ...  "
      ],
      "text/html": "<div>\n<style scoped>\n    .dataframe tbody tr th:only-of-type {\n        vertical-align: middle;\n    }\n\n    .dataframe tbody tr th {\n        vertical-align: top;\n    }\n\n    .dataframe thead th {\n        text-align: right;\n    }\n</style>\n<table border=\"1\" class=\"dataframe\">\n  <thead>\n    <tr style=\"text-align: right;\">\n      <th></th>\n      <th>book_id</th>\n      <th>book_name</th>\n      <th>genre</th>\n      <th>summary</th>\n    </tr>\n  </thead>\n  <tbody>\n    <tr>\n      <th>0</th>\n      <td>620</td>\n      <td>Animal Farm</td>\n      <td>[Roman à clef, Satire, Children's literature, Speculative fiction, Fiction]</td>\n      <td>old major the old boar on the manor farm calls the animals on the farm for a meeting where he compares the humans to parasites and teaches the animals a revolutionary song beasts of england when major dies two young pigs snowball and napoleon assume command and turn his dream into a philosophy t...</td>\n    </tr>\n    <tr>\n      <th>1</th>\n      <td>843</td>\n      <td>A Clockwork Orange</td>\n      <td>[Science Fiction, Novella, Speculative fiction, Utopian and dystopian fiction, Satire, Fiction]</td>\n      <td>alex a teenager living in near future england leads his gang on nightly orgies of opportunistic random ultra violence alex s friends droogs in the novel s anglo russian slang nadsat are dim a slow witted bruiser who is the gang s muscle georgie an ambitious second in command and pete who mostly ...</td>\n    </tr>\n  </tbody>\n</table>\n</div>"
     },
     "metadata": {},
     "execution_count": 40
    }
   ],
   "source": [
    "books.summary = books.summary.apply(lambda x:clean_summ(x))\n",
    "books.head(2)"
   ]
  },
  {
   "cell_type": "code",
   "execution_count": 41,
   "metadata": {},
   "outputs": [],
   "source": [
    "books.to_csv(\"book_summaries.csv\")"
   ]
  },
  {
   "cell_type": "code",
   "execution_count": null,
   "metadata": {},
   "outputs": [],
   "source": []
  }
 ]
}