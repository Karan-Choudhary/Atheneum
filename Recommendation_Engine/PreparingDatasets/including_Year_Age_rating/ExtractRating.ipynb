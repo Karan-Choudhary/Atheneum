{
 "metadata": {
  "language_info": {
   "codemirror_mode": {
    "name": "ipython",
    "version": 3
   },
   "file_extension": ".py",
   "mimetype": "text/x-python",
   "name": "python",
   "nbconvert_exporter": "python",
   "pygments_lexer": "ipython3",
   "version": "3.9.2"
  },
  "orig_nbformat": 2,
  "kernelspec": {
   "name": "python392jvsc74a57bd0578ce72e72bd9f13049fd4c13d9f5b1c81715c13ddea0a3c61ff70756cb5d6d4",
   "display_name": "Python 3.9.2 64-bit"
  },
  "metadata": {
   "interpreter": {
    "hash": "578ce72e72bd9f13049fd4c13d9f5b1c81715c13ddea0a3c61ff70756cb5d6d4"
   }
  }
 },
 "nbformat": 4,
 "nbformat_minor": 2,
 "cells": [
  {
   "cell_type": "code",
   "execution_count": 2,
   "metadata": {},
   "outputs": [],
   "source": [
    "import pandas as pd \n",
    "import numpy as np "
   ]
  },
  {
   "cell_type": "code",
   "execution_count": 3,
   "metadata": {},
   "outputs": [],
   "source": [
    "book_summaries = pd.read_csv(\"book_summaries.csv\")"
   ]
  },
  {
   "cell_type": "code",
   "execution_count": 4,
   "metadata": {},
   "outputs": [
    {
     "output_type": "execute_result",
     "data": {
      "text/plain": [
       "   S.No  book_id                       book_name  \\\n",
       "0     0      620                     Animal Farm   \n",
       "1     1      843              A Clockwork Orange   \n",
       "2     2      986                      The Plague   \n",
       "3     4     2080            A Fire Upon the Deep   \n",
       "4     5     2152  All Quiet on the Western Front   \n",
       "\n",
       "                                               genre  \\\n",
       "0  ['Roman à clef', 'Satire', \"Children's literat...   \n",
       "1  ['Science Fiction', 'Novella', 'Speculative fi...   \n",
       "2  ['Existentialism', 'Fiction', 'Absurdist ficti...   \n",
       "3  ['Hard science fiction', 'Science Fiction', 'S...   \n",
       "4                      ['War novel', 'Roman à clef']   \n",
       "\n",
       "                                             summary  ratings  \n",
       "0  old major the old boar on the manor farm calls...      NaN  \n",
       "1  alex a teenager living in near future england ...      NaN  \n",
       "2  the text of the plague is divided into five pa...      NaN  \n",
       "3  the novel posits that space around the milky w...      NaN  \n",
       "4  the book tells the story of paul b umer a germ...      NaN  "
      ],
      "text/html": "<div>\n<style scoped>\n    .dataframe tbody tr th:only-of-type {\n        vertical-align: middle;\n    }\n\n    .dataframe tbody tr th {\n        vertical-align: top;\n    }\n\n    .dataframe thead th {\n        text-align: right;\n    }\n</style>\n<table border=\"1\" class=\"dataframe\">\n  <thead>\n    <tr style=\"text-align: right;\">\n      <th></th>\n      <th>S.No</th>\n      <th>book_id</th>\n      <th>book_name</th>\n      <th>genre</th>\n      <th>summary</th>\n      <th>ratings</th>\n    </tr>\n  </thead>\n  <tbody>\n    <tr>\n      <th>0</th>\n      <td>0</td>\n      <td>620</td>\n      <td>Animal Farm</td>\n      <td>['Roman à clef', 'Satire', \"Children's literat...</td>\n      <td>old major the old boar on the manor farm calls...</td>\n      <td>NaN</td>\n    </tr>\n    <tr>\n      <th>1</th>\n      <td>1</td>\n      <td>843</td>\n      <td>A Clockwork Orange</td>\n      <td>['Science Fiction', 'Novella', 'Speculative fi...</td>\n      <td>alex a teenager living in near future england ...</td>\n      <td>NaN</td>\n    </tr>\n    <tr>\n      <th>2</th>\n      <td>2</td>\n      <td>986</td>\n      <td>The Plague</td>\n      <td>['Existentialism', 'Fiction', 'Absurdist ficti...</td>\n      <td>the text of the plague is divided into five pa...</td>\n      <td>NaN</td>\n    </tr>\n    <tr>\n      <th>3</th>\n      <td>4</td>\n      <td>2080</td>\n      <td>A Fire Upon the Deep</td>\n      <td>['Hard science fiction', 'Science Fiction', 'S...</td>\n      <td>the novel posits that space around the milky w...</td>\n      <td>NaN</td>\n    </tr>\n    <tr>\n      <th>4</th>\n      <td>5</td>\n      <td>2152</td>\n      <td>All Quiet on the Western Front</td>\n      <td>['War novel', 'Roman à clef']</td>\n      <td>the book tells the story of paul b umer a germ...</td>\n      <td>NaN</td>\n    </tr>\n  </tbody>\n</table>\n</div>"
     },
     "metadata": {},
     "execution_count": 4
    }
   ],
   "source": [
    "book_summaries.head()"
   ]
  },
  {
   "cell_type": "code",
   "execution_count": 5,
   "metadata": {},
   "outputs": [],
   "source": [
    "book_summaries['ratings'] = book_summaries.ratings.apply(lambda x: np.random.uniform(2.0,5.0))"
   ]
  },
  {
   "cell_type": "code",
   "execution_count": 6,
   "metadata": {},
   "outputs": [
    {
     "output_type": "execute_result",
     "data": {
      "text/plain": [
       "   S.No  book_id                       book_name  \\\n",
       "0     0      620                     Animal Farm   \n",
       "1     1      843              A Clockwork Orange   \n",
       "2     2      986                      The Plague   \n",
       "3     4     2080            A Fire Upon the Deep   \n",
       "4     5     2152  All Quiet on the Western Front   \n",
       "\n",
       "                                               genre  \\\n",
       "0  ['Roman à clef', 'Satire', \"Children's literat...   \n",
       "1  ['Science Fiction', 'Novella', 'Speculative fi...   \n",
       "2  ['Existentialism', 'Fiction', 'Absurdist ficti...   \n",
       "3  ['Hard science fiction', 'Science Fiction', 'S...   \n",
       "4                      ['War novel', 'Roman à clef']   \n",
       "\n",
       "                                             summary   ratings  \n",
       "0  old major the old boar on the manor farm calls...  2.096472  \n",
       "1  alex a teenager living in near future england ...  3.906346  \n",
       "2  the text of the plague is divided into five pa...  2.235206  \n",
       "3  the novel posits that space around the milky w...  3.751410  \n",
       "4  the book tells the story of paul b umer a germ...  2.695472  "
      ],
      "text/html": "<div>\n<style scoped>\n    .dataframe tbody tr th:only-of-type {\n        vertical-align: middle;\n    }\n\n    .dataframe tbody tr th {\n        vertical-align: top;\n    }\n\n    .dataframe thead th {\n        text-align: right;\n    }\n</style>\n<table border=\"1\" class=\"dataframe\">\n  <thead>\n    <tr style=\"text-align: right;\">\n      <th></th>\n      <th>S.No</th>\n      <th>book_id</th>\n      <th>book_name</th>\n      <th>genre</th>\n      <th>summary</th>\n      <th>ratings</th>\n    </tr>\n  </thead>\n  <tbody>\n    <tr>\n      <th>0</th>\n      <td>0</td>\n      <td>620</td>\n      <td>Animal Farm</td>\n      <td>['Roman à clef', 'Satire', \"Children's literat...</td>\n      <td>old major the old boar on the manor farm calls...</td>\n      <td>2.096472</td>\n    </tr>\n    <tr>\n      <th>1</th>\n      <td>1</td>\n      <td>843</td>\n      <td>A Clockwork Orange</td>\n      <td>['Science Fiction', 'Novella', 'Speculative fi...</td>\n      <td>alex a teenager living in near future england ...</td>\n      <td>3.906346</td>\n    </tr>\n    <tr>\n      <th>2</th>\n      <td>2</td>\n      <td>986</td>\n      <td>The Plague</td>\n      <td>['Existentialism', 'Fiction', 'Absurdist ficti...</td>\n      <td>the text of the plague is divided into five pa...</td>\n      <td>2.235206</td>\n    </tr>\n    <tr>\n      <th>3</th>\n      <td>4</td>\n      <td>2080</td>\n      <td>A Fire Upon the Deep</td>\n      <td>['Hard science fiction', 'Science Fiction', 'S...</td>\n      <td>the novel posits that space around the milky w...</td>\n      <td>3.751410</td>\n    </tr>\n    <tr>\n      <th>4</th>\n      <td>5</td>\n      <td>2152</td>\n      <td>All Quiet on the Western Front</td>\n      <td>['War novel', 'Roman à clef']</td>\n      <td>the book tells the story of paul b umer a germ...</td>\n      <td>2.695472</td>\n    </tr>\n  </tbody>\n</table>\n</div>"
     },
     "metadata": {},
     "execution_count": 6
    }
   ],
   "source": [
    "book_summaries.head()"
   ]
  },
  {
   "cell_type": "code",
   "execution_count": 7,
   "metadata": {},
   "outputs": [
    {
     "output_type": "execute_result",
     "data": {
      "text/plain": [
       "   S.No  book_id                          book_name  \\\n",
       "0     0      620                        Animal Farm   \n",
       "1     1      843                 A Clockwork Orange   \n",
       "2     2      986                         The Plague   \n",
       "3     4     2080               A Fire Upon the Deep   \n",
       "4     5     2152     All Quiet on the Western Front   \n",
       "5     6     2890               A Wizard of Earthsea   \n",
       "6     8     4081    Blade Runner 3: Replicant Night   \n",
       "7     9     4082  Blade Runner 2: The Edge of Human   \n",
       "8    15     4386                        Book of Job   \n",
       "9    20     6020                              Crash   \n",
       "\n",
       "                                               genre  \\\n",
       "0  ['Roman à clef', 'Satire', \"Children's literat...   \n",
       "1  ['Science Fiction', 'Novella', 'Speculative fi...   \n",
       "2  ['Existentialism', 'Fiction', 'Absurdist ficti...   \n",
       "3  ['Hard science fiction', 'Science Fiction', 'S...   \n",
       "4                      ['War novel', 'Roman à clef']   \n",
       "5  [\"Children's literature\", 'Fantasy', 'Speculat...   \n",
       "6         ['Science Fiction', 'Speculative fiction']   \n",
       "7         ['Science Fiction', 'Speculative fiction']   \n",
       "8                                 ['Religious text']   \n",
       "9        ['Speculative fiction', 'Fiction', 'Novel']   \n",
       "\n",
       "                                             summary   ratings  \n",
       "0  old major the old boar on the manor farm calls...  2.096472  \n",
       "1  alex a teenager living in near future england ...  3.906346  \n",
       "2  the text of the plague is divided into five pa...  2.235206  \n",
       "3  the novel posits that space around the milky w...  3.751410  \n",
       "4  the book tells the story of paul b umer a germ...  2.695472  \n",
       "5  ged is a young boy on gont one of the larger i...  3.077943  \n",
       "6  living on mars deckard is acting as a consulta...  2.986739  \n",
       "7  beginning several months after the events in b...  3.391847  \n",
       "8  the book of job tells the story of an extremel...  2.587289  \n",
       "9  the story is told through the eyes of narrator...  3.636807  "
      ],
      "text/html": "<div>\n<style scoped>\n    .dataframe tbody tr th:only-of-type {\n        vertical-align: middle;\n    }\n\n    .dataframe tbody tr th {\n        vertical-align: top;\n    }\n\n    .dataframe thead th {\n        text-align: right;\n    }\n</style>\n<table border=\"1\" class=\"dataframe\">\n  <thead>\n    <tr style=\"text-align: right;\">\n      <th></th>\n      <th>S.No</th>\n      <th>book_id</th>\n      <th>book_name</th>\n      <th>genre</th>\n      <th>summary</th>\n      <th>ratings</th>\n    </tr>\n  </thead>\n  <tbody>\n    <tr>\n      <th>0</th>\n      <td>0</td>\n      <td>620</td>\n      <td>Animal Farm</td>\n      <td>['Roman à clef', 'Satire', \"Children's literat...</td>\n      <td>old major the old boar on the manor farm calls...</td>\n      <td>2.096472</td>\n    </tr>\n    <tr>\n      <th>1</th>\n      <td>1</td>\n      <td>843</td>\n      <td>A Clockwork Orange</td>\n      <td>['Science Fiction', 'Novella', 'Speculative fi...</td>\n      <td>alex a teenager living in near future england ...</td>\n      <td>3.906346</td>\n    </tr>\n    <tr>\n      <th>2</th>\n      <td>2</td>\n      <td>986</td>\n      <td>The Plague</td>\n      <td>['Existentialism', 'Fiction', 'Absurdist ficti...</td>\n      <td>the text of the plague is divided into five pa...</td>\n      <td>2.235206</td>\n    </tr>\n    <tr>\n      <th>3</th>\n      <td>4</td>\n      <td>2080</td>\n      <td>A Fire Upon the Deep</td>\n      <td>['Hard science fiction', 'Science Fiction', 'S...</td>\n      <td>the novel posits that space around the milky w...</td>\n      <td>3.751410</td>\n    </tr>\n    <tr>\n      <th>4</th>\n      <td>5</td>\n      <td>2152</td>\n      <td>All Quiet on the Western Front</td>\n      <td>['War novel', 'Roman à clef']</td>\n      <td>the book tells the story of paul b umer a germ...</td>\n      <td>2.695472</td>\n    </tr>\n    <tr>\n      <th>5</th>\n      <td>6</td>\n      <td>2890</td>\n      <td>A Wizard of Earthsea</td>\n      <td>[\"Children's literature\", 'Fantasy', 'Speculat...</td>\n      <td>ged is a young boy on gont one of the larger i...</td>\n      <td>3.077943</td>\n    </tr>\n    <tr>\n      <th>6</th>\n      <td>8</td>\n      <td>4081</td>\n      <td>Blade Runner 3: Replicant Night</td>\n      <td>['Science Fiction', 'Speculative fiction']</td>\n      <td>living on mars deckard is acting as a consulta...</td>\n      <td>2.986739</td>\n    </tr>\n    <tr>\n      <th>7</th>\n      <td>9</td>\n      <td>4082</td>\n      <td>Blade Runner 2: The Edge of Human</td>\n      <td>['Science Fiction', 'Speculative fiction']</td>\n      <td>beginning several months after the events in b...</td>\n      <td>3.391847</td>\n    </tr>\n    <tr>\n      <th>8</th>\n      <td>15</td>\n      <td>4386</td>\n      <td>Book of Job</td>\n      <td>['Religious text']</td>\n      <td>the book of job tells the story of an extremel...</td>\n      <td>2.587289</td>\n    </tr>\n    <tr>\n      <th>9</th>\n      <td>20</td>\n      <td>6020</td>\n      <td>Crash</td>\n      <td>['Speculative fiction', 'Fiction', 'Novel']</td>\n      <td>the story is told through the eyes of narrator...</td>\n      <td>3.636807</td>\n    </tr>\n  </tbody>\n</table>\n</div>"
     },
     "metadata": {},
     "execution_count": 7
    }
   ],
   "source": [
    "book_summaries.head(10)"
   ]
  },
  {
   "cell_type": "code",
   "execution_count": 8,
   "metadata": {},
   "outputs": [
    {
     "output_type": "execute_result",
     "data": {
      "text/plain": [
       "0"
      ]
     },
     "metadata": {},
     "execution_count": 8
    }
   ],
   "source": [
    "book_summaries.ratings.isnull().sum()"
   ]
  },
  {
   "cell_type": "code",
   "execution_count": 9,
   "metadata": {},
   "outputs": [],
   "source": [
    "book_summaries.ratings = round(book_summaries.ratings,1)"
   ]
  },
  {
   "cell_type": "code",
   "execution_count": 10,
   "metadata": {},
   "outputs": [
    {
     "output_type": "execute_result",
     "data": {
      "text/plain": [
       "   S.No  book_id                       book_name  \\\n",
       "0     0      620                     Animal Farm   \n",
       "1     1      843              A Clockwork Orange   \n",
       "2     2      986                      The Plague   \n",
       "3     4     2080            A Fire Upon the Deep   \n",
       "4     5     2152  All Quiet on the Western Front   \n",
       "\n",
       "                                               genre  \\\n",
       "0  ['Roman à clef', 'Satire', \"Children's literat...   \n",
       "1  ['Science Fiction', 'Novella', 'Speculative fi...   \n",
       "2  ['Existentialism', 'Fiction', 'Absurdist ficti...   \n",
       "3  ['Hard science fiction', 'Science Fiction', 'S...   \n",
       "4                      ['War novel', 'Roman à clef']   \n",
       "\n",
       "                                             summary  ratings  \n",
       "0  old major the old boar on the manor farm calls...      2.1  \n",
       "1  alex a teenager living in near future england ...      3.9  \n",
       "2  the text of the plague is divided into five pa...      2.2  \n",
       "3  the novel posits that space around the milky w...      3.8  \n",
       "4  the book tells the story of paul b umer a germ...      2.7  "
      ],
      "text/html": "<div>\n<style scoped>\n    .dataframe tbody tr th:only-of-type {\n        vertical-align: middle;\n    }\n\n    .dataframe tbody tr th {\n        vertical-align: top;\n    }\n\n    .dataframe thead th {\n        text-align: right;\n    }\n</style>\n<table border=\"1\" class=\"dataframe\">\n  <thead>\n    <tr style=\"text-align: right;\">\n      <th></th>\n      <th>S.No</th>\n      <th>book_id</th>\n      <th>book_name</th>\n      <th>genre</th>\n      <th>summary</th>\n      <th>ratings</th>\n    </tr>\n  </thead>\n  <tbody>\n    <tr>\n      <th>0</th>\n      <td>0</td>\n      <td>620</td>\n      <td>Animal Farm</td>\n      <td>['Roman à clef', 'Satire', \"Children's literat...</td>\n      <td>old major the old boar on the manor farm calls...</td>\n      <td>2.1</td>\n    </tr>\n    <tr>\n      <th>1</th>\n      <td>1</td>\n      <td>843</td>\n      <td>A Clockwork Orange</td>\n      <td>['Science Fiction', 'Novella', 'Speculative fi...</td>\n      <td>alex a teenager living in near future england ...</td>\n      <td>3.9</td>\n    </tr>\n    <tr>\n      <th>2</th>\n      <td>2</td>\n      <td>986</td>\n      <td>The Plague</td>\n      <td>['Existentialism', 'Fiction', 'Absurdist ficti...</td>\n      <td>the text of the plague is divided into five pa...</td>\n      <td>2.2</td>\n    </tr>\n    <tr>\n      <th>3</th>\n      <td>4</td>\n      <td>2080</td>\n      <td>A Fire Upon the Deep</td>\n      <td>['Hard science fiction', 'Science Fiction', 'S...</td>\n      <td>the novel posits that space around the milky w...</td>\n      <td>3.8</td>\n    </tr>\n    <tr>\n      <th>4</th>\n      <td>5</td>\n      <td>2152</td>\n      <td>All Quiet on the Western Front</td>\n      <td>['War novel', 'Roman à clef']</td>\n      <td>the book tells the story of paul b umer a germ...</td>\n      <td>2.7</td>\n    </tr>\n  </tbody>\n</table>\n</div>"
     },
     "metadata": {},
     "execution_count": 10
    }
   ],
   "source": [
    "book_summaries.head()"
   ]
  },
  {
   "cell_type": "code",
   "execution_count": 11,
   "metadata": {},
   "outputs": [],
   "source": [
    "greater5 = book_summaries.ratings[book_summaries['ratings']>5]"
   ]
  },
  {
   "cell_type": "code",
   "execution_count": 12,
   "metadata": {},
   "outputs": [
    {
     "output_type": "execute_result",
     "data": {
      "text/plain": [
       "0.0"
      ]
     },
     "metadata": {},
     "execution_count": 12
    }
   ],
   "source": [
    "greater5.sum()"
   ]
  },
  {
   "cell_type": "code",
   "execution_count": 13,
   "metadata": {},
   "outputs": [],
   "source": [
    "book_summariesCopy = book_summaries"
   ]
  },
  {
   "cell_type": "code",
   "execution_count": 14,
   "metadata": {},
   "outputs": [],
   "source": [
    "book_summariesCopy.genre = book_summariesCopy.genre.str.split(',',n=15,expand = True)"
   ]
  },
  {
   "cell_type": "code",
   "execution_count": 15,
   "metadata": {},
   "outputs": [
    {
     "output_type": "execute_result",
     "data": {
      "text/plain": [
       "   S.No  book_id                       book_name                    genre  \\\n",
       "0     0      620                     Animal Farm          ['Roman à clef'   \n",
       "1     1      843              A Clockwork Orange       ['Science Fiction'   \n",
       "2     2      986                      The Plague        ['Existentialism'   \n",
       "3     4     2080            A Fire Upon the Deep  ['Hard science fiction'   \n",
       "4     5     2152  All Quiet on the Western Front             ['War novel'   \n",
       "\n",
       "                                             summary  ratings  \n",
       "0  old major the old boar on the manor farm calls...      2.1  \n",
       "1  alex a teenager living in near future england ...      3.9  \n",
       "2  the text of the plague is divided into five pa...      2.2  \n",
       "3  the novel posits that space around the milky w...      3.8  \n",
       "4  the book tells the story of paul b umer a germ...      2.7  "
      ],
      "text/html": "<div>\n<style scoped>\n    .dataframe tbody tr th:only-of-type {\n        vertical-align: middle;\n    }\n\n    .dataframe tbody tr th {\n        vertical-align: top;\n    }\n\n    .dataframe thead th {\n        text-align: right;\n    }\n</style>\n<table border=\"1\" class=\"dataframe\">\n  <thead>\n    <tr style=\"text-align: right;\">\n      <th></th>\n      <th>S.No</th>\n      <th>book_id</th>\n      <th>book_name</th>\n      <th>genre</th>\n      <th>summary</th>\n      <th>ratings</th>\n    </tr>\n  </thead>\n  <tbody>\n    <tr>\n      <th>0</th>\n      <td>0</td>\n      <td>620</td>\n      <td>Animal Farm</td>\n      <td>['Roman à clef'</td>\n      <td>old major the old boar on the manor farm calls...</td>\n      <td>2.1</td>\n    </tr>\n    <tr>\n      <th>1</th>\n      <td>1</td>\n      <td>843</td>\n      <td>A Clockwork Orange</td>\n      <td>['Science Fiction'</td>\n      <td>alex a teenager living in near future england ...</td>\n      <td>3.9</td>\n    </tr>\n    <tr>\n      <th>2</th>\n      <td>2</td>\n      <td>986</td>\n      <td>The Plague</td>\n      <td>['Existentialism'</td>\n      <td>the text of the plague is divided into five pa...</td>\n      <td>2.2</td>\n    </tr>\n    <tr>\n      <th>3</th>\n      <td>4</td>\n      <td>2080</td>\n      <td>A Fire Upon the Deep</td>\n      <td>['Hard science fiction'</td>\n      <td>the novel posits that space around the milky w...</td>\n      <td>3.8</td>\n    </tr>\n    <tr>\n      <th>4</th>\n      <td>5</td>\n      <td>2152</td>\n      <td>All Quiet on the Western Front</td>\n      <td>['War novel'</td>\n      <td>the book tells the story of paul b umer a germ...</td>\n      <td>2.7</td>\n    </tr>\n  </tbody>\n</table>\n</div>"
     },
     "metadata": {},
     "execution_count": 15
    }
   ],
   "source": [
    "book_summariesCopy.head()"
   ]
  },
  {
   "cell_type": "code",
   "execution_count": 16,
   "metadata": {},
   "outputs": [
    {
     "output_type": "execute_result",
     "data": {
      "text/plain": [
       "0                ['Roman à clef'\n",
       "1             ['Science Fiction'\n",
       "2              ['Existentialism'\n",
       "3        ['Hard science fiction'\n",
       "4                   ['War novel'\n",
       "                  ...           \n",
       "12836        ['Science Fiction']\n",
       "12837                ['Thriller'\n",
       "12838                ['Thriller'\n",
       "12839          ['Autobiography']\n",
       "12840        ['Epistolary novel'\n",
       "Name: genre, Length: 12841, dtype: object"
      ]
     },
     "metadata": {},
     "execution_count": 16
    }
   ],
   "source": [
    "book_summariesCopy.genre"
   ]
  },
  {
   "cell_type": "code",
   "execution_count": 17,
   "metadata": {},
   "outputs": [],
   "source": [
    "book_summariesCopy.genre = book_summariesCopy.genre.replace('\\[','',regex=True).astype(object)"
   ]
  },
  {
   "cell_type": "code",
   "execution_count": 18,
   "metadata": {},
   "outputs": [
    {
     "output_type": "execute_result",
     "data": {
      "text/plain": [
       "0                'Roman à clef'\n",
       "1             'Science Fiction'\n",
       "2              'Existentialism'\n",
       "3        'Hard science fiction'\n",
       "4                   'War novel'\n",
       "                  ...          \n",
       "12836        'Science Fiction']\n",
       "12837                'Thriller'\n",
       "12838                'Thriller'\n",
       "12839          'Autobiography']\n",
       "12840        'Epistolary novel'\n",
       "Name: genre, Length: 12841, dtype: object"
      ]
     },
     "metadata": {},
     "execution_count": 18
    }
   ],
   "source": [
    "book_summariesCopy.genre"
   ]
  },
  {
   "cell_type": "code",
   "execution_count": 19,
   "metadata": {},
   "outputs": [],
   "source": [
    "book_summariesCopy.genre = book_summariesCopy.genre.replace('\\]','',regex=True).astype(object)"
   ]
  },
  {
   "cell_type": "code",
   "execution_count": 20,
   "metadata": {},
   "outputs": [
    {
     "output_type": "execute_result",
     "data": {
      "text/plain": [
       "0                'Roman à clef'\n",
       "1             'Science Fiction'\n",
       "2              'Existentialism'\n",
       "3        'Hard science fiction'\n",
       "4                   'War novel'\n",
       "                  ...          \n",
       "12836         'Science Fiction'\n",
       "12837                'Thriller'\n",
       "12838                'Thriller'\n",
       "12839           'Autobiography'\n",
       "12840        'Epistolary novel'\n",
       "Name: genre, Length: 12841, dtype: object"
      ]
     },
     "metadata": {},
     "execution_count": 20
    }
   ],
   "source": [
    "book_summariesCopy.genre"
   ]
  },
  {
   "cell_type": "code",
   "execution_count": 23,
   "metadata": {},
   "outputs": [],
   "source": [
    "book_summariesCopy.genre = book_summariesCopy.genre.replace(\"\\'\",'',regex=True).astype(object)"
   ]
  },
  {
   "cell_type": "code",
   "execution_count": 22,
   "metadata": {},
   "outputs": [
    {
     "output_type": "execute_result",
     "data": {
      "text/plain": [
       "0                'Roman à clef'\n",
       "1             'Science Fiction'\n",
       "2              'Existentialism'\n",
       "3        'Hard science fiction'\n",
       "4                   'War novel'\n",
       "                  ...          \n",
       "12836         'Science Fiction'\n",
       "12837                'Thriller'\n",
       "12838                'Thriller'\n",
       "12839           'Autobiography'\n",
       "12840        'Epistolary novel'\n",
       "Name: genre, Length: 12841, dtype: object"
      ]
     },
     "metadata": {},
     "execution_count": 22
    }
   ],
   "source": [
    "book_summariesCopy.genre\n"
   ]
  },
  {
   "cell_type": "code",
   "execution_count": 25,
   "metadata": {},
   "outputs": [],
   "source": [
    "for i in book_summariesCopy.genre:\n",
    "    i = i[1:-1]"
   ]
  },
  {
   "cell_type": "code",
   "execution_count": 26,
   "metadata": {},
   "outputs": [
    {
     "output_type": "execute_result",
     "data": {
      "text/plain": [
       "0                Roman à clef\n",
       "1             Science Fiction\n",
       "2              Existentialism\n",
       "3        Hard science fiction\n",
       "4                   War novel\n",
       "                 ...         \n",
       "12836         Science Fiction\n",
       "12837                Thriller\n",
       "12838                Thriller\n",
       "12839           Autobiography\n",
       "12840        Epistolary novel\n",
       "Name: genre, Length: 12841, dtype: object"
      ]
     },
     "metadata": {},
     "execution_count": 26
    }
   ],
   "source": [
    "book_summariesCopy.genre\n"
   ]
  },
  {
   "cell_type": "code",
   "execution_count": 27,
   "metadata": {},
   "outputs": [
    {
     "output_type": "execute_result",
     "data": {
      "text/plain": [
       "   S.No  book_id                       book_name                 genre  \\\n",
       "0     0      620                     Animal Farm          Roman à clef   \n",
       "1     1      843              A Clockwork Orange       Science Fiction   \n",
       "2     2      986                      The Plague        Existentialism   \n",
       "3     4     2080            A Fire Upon the Deep  Hard science fiction   \n",
       "4     5     2152  All Quiet on the Western Front             War novel   \n",
       "\n",
       "                                             summary  ratings  \n",
       "0  old major the old boar on the manor farm calls...      2.1  \n",
       "1  alex a teenager living in near future england ...      3.9  \n",
       "2  the text of the plague is divided into five pa...      2.2  \n",
       "3  the novel posits that space around the milky w...      3.8  \n",
       "4  the book tells the story of paul b umer a germ...      2.7  "
      ],
      "text/html": "<div>\n<style scoped>\n    .dataframe tbody tr th:only-of-type {\n        vertical-align: middle;\n    }\n\n    .dataframe tbody tr th {\n        vertical-align: top;\n    }\n\n    .dataframe thead th {\n        text-align: right;\n    }\n</style>\n<table border=\"1\" class=\"dataframe\">\n  <thead>\n    <tr style=\"text-align: right;\">\n      <th></th>\n      <th>S.No</th>\n      <th>book_id</th>\n      <th>book_name</th>\n      <th>genre</th>\n      <th>summary</th>\n      <th>ratings</th>\n    </tr>\n  </thead>\n  <tbody>\n    <tr>\n      <th>0</th>\n      <td>0</td>\n      <td>620</td>\n      <td>Animal Farm</td>\n      <td>Roman à clef</td>\n      <td>old major the old boar on the manor farm calls...</td>\n      <td>2.1</td>\n    </tr>\n    <tr>\n      <th>1</th>\n      <td>1</td>\n      <td>843</td>\n      <td>A Clockwork Orange</td>\n      <td>Science Fiction</td>\n      <td>alex a teenager living in near future england ...</td>\n      <td>3.9</td>\n    </tr>\n    <tr>\n      <th>2</th>\n      <td>2</td>\n      <td>986</td>\n      <td>The Plague</td>\n      <td>Existentialism</td>\n      <td>the text of the plague is divided into five pa...</td>\n      <td>2.2</td>\n    </tr>\n    <tr>\n      <th>3</th>\n      <td>4</td>\n      <td>2080</td>\n      <td>A Fire Upon the Deep</td>\n      <td>Hard science fiction</td>\n      <td>the novel posits that space around the milky w...</td>\n      <td>3.8</td>\n    </tr>\n    <tr>\n      <th>4</th>\n      <td>5</td>\n      <td>2152</td>\n      <td>All Quiet on the Western Front</td>\n      <td>War novel</td>\n      <td>the book tells the story of paul b umer a germ...</td>\n      <td>2.7</td>\n    </tr>\n  </tbody>\n</table>\n</div>"
     },
     "metadata": {},
     "execution_count": 27
    }
   ],
   "source": [
    "book_summariesCopy.head()"
   ]
  },
  {
   "cell_type": "code",
   "execution_count": 28,
   "metadata": {},
   "outputs": [],
   "source": [
    "book_summaries = book_summariesCopy"
   ]
  },
  {
   "cell_type": "code",
   "execution_count": 29,
   "metadata": {},
   "outputs": [
    {
     "output_type": "execute_result",
     "data": {
      "text/plain": [
       "   S.No  book_id                       book_name                 genre  \\\n",
       "0     0      620                     Animal Farm          Roman à clef   \n",
       "1     1      843              A Clockwork Orange       Science Fiction   \n",
       "2     2      986                      The Plague        Existentialism   \n",
       "3     4     2080            A Fire Upon the Deep  Hard science fiction   \n",
       "4     5     2152  All Quiet on the Western Front             War novel   \n",
       "\n",
       "                                             summary  ratings  \n",
       "0  old major the old boar on the manor farm calls...      2.1  \n",
       "1  alex a teenager living in near future england ...      3.9  \n",
       "2  the text of the plague is divided into five pa...      2.2  \n",
       "3  the novel posits that space around the milky w...      3.8  \n",
       "4  the book tells the story of paul b umer a germ...      2.7  "
      ],
      "text/html": "<div>\n<style scoped>\n    .dataframe tbody tr th:only-of-type {\n        vertical-align: middle;\n    }\n\n    .dataframe tbody tr th {\n        vertical-align: top;\n    }\n\n    .dataframe thead th {\n        text-align: right;\n    }\n</style>\n<table border=\"1\" class=\"dataframe\">\n  <thead>\n    <tr style=\"text-align: right;\">\n      <th></th>\n      <th>S.No</th>\n      <th>book_id</th>\n      <th>book_name</th>\n      <th>genre</th>\n      <th>summary</th>\n      <th>ratings</th>\n    </tr>\n  </thead>\n  <tbody>\n    <tr>\n      <th>0</th>\n      <td>0</td>\n      <td>620</td>\n      <td>Animal Farm</td>\n      <td>Roman à clef</td>\n      <td>old major the old boar on the manor farm calls...</td>\n      <td>2.1</td>\n    </tr>\n    <tr>\n      <th>1</th>\n      <td>1</td>\n      <td>843</td>\n      <td>A Clockwork Orange</td>\n      <td>Science Fiction</td>\n      <td>alex a teenager living in near future england ...</td>\n      <td>3.9</td>\n    </tr>\n    <tr>\n      <th>2</th>\n      <td>2</td>\n      <td>986</td>\n      <td>The Plague</td>\n      <td>Existentialism</td>\n      <td>the text of the plague is divided into five pa...</td>\n      <td>2.2</td>\n    </tr>\n    <tr>\n      <th>3</th>\n      <td>4</td>\n      <td>2080</td>\n      <td>A Fire Upon the Deep</td>\n      <td>Hard science fiction</td>\n      <td>the novel posits that space around the milky w...</td>\n      <td>3.8</td>\n    </tr>\n    <tr>\n      <th>4</th>\n      <td>5</td>\n      <td>2152</td>\n      <td>All Quiet on the Western Front</td>\n      <td>War novel</td>\n      <td>the book tells the story of paul b umer a germ...</td>\n      <td>2.7</td>\n    </tr>\n  </tbody>\n</table>\n</div>"
     },
     "metadata": {},
     "execution_count": 29
    }
   ],
   "source": [
    "book_summaries.head()"
   ]
  },
  {
   "cell_type": "code",
   "execution_count": 30,
   "metadata": {},
   "outputs": [],
   "source": [
    "book_summaries.to_csv(\"book_summaries(2).csv\")"
   ]
  },
  {
   "cell_type": "code",
   "execution_count": null,
   "metadata": {},
   "outputs": [],
   "source": []
  }
 ]
}
