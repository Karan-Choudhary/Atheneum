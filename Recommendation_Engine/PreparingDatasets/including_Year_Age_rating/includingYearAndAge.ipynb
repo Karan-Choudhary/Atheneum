{
 "metadata": {
  "language_info": {
   "codemirror_mode": {
    "name": "ipython",
    "version": 3
   },
   "file_extension": ".py",
   "mimetype": "text/x-python",
   "name": "python",
   "nbconvert_exporter": "python",
   "pygments_lexer": "ipython3",
   "version": "3.9.2"
  },
  "orig_nbformat": 2,
  "kernelspec": {
   "name": "python392jvsc74a57bd0578ce72e72bd9f13049fd4c13d9f5b1c81715c13ddea0a3c61ff70756cb5d6d4",
   "display_name": "Python 3.9.2 64-bit"
  },
  "metadata": {
   "interpreter": {
    "hash": "578ce72e72bd9f13049fd4c13d9f5b1c81715c13ddea0a3c61ff70756cb5d6d4"
   }
  }
 },
 "nbformat": 4,
 "nbformat_minor": 2,
 "cells": [
  {
   "cell_type": "code",
   "execution_count": 16,
   "metadata": {},
   "outputs": [],
   "source": [
    "import pandas as pd \n",
    "import numpy as np "
   ]
  },
  {
   "cell_type": "code",
   "execution_count": 17,
   "metadata": {},
   "outputs": [
    {
     "output_type": "execute_result",
     "data": {
      "text/plain": [
       "   Unnamed: 0  S.No  book_id                       book_name  \\\n",
       "0           0     0      620                     Animal Farm   \n",
       "1           1     1      843              A Clockwork Orange   \n",
       "2           2     2      986                      The Plague   \n",
       "3           3     4     2080            A Fire Upon the Deep   \n",
       "4           4     5     2152  All Quiet on the Western Front   \n",
       "\n",
       "                  genre                                            summary  \\\n",
       "0          Roman à clef  old major the old boar on the manor farm calls...   \n",
       "1       Science Fiction  alex a teenager living in near future england ...   \n",
       "2        Existentialism  the text of the plague is divided into five pa...   \n",
       "3  Hard science fiction  the novel posits that space around the milky w...   \n",
       "4             War novel  the book tells the story of paul b umer a germ...   \n",
       "\n",
       "   ratings  year  age  \n",
       "0      2.1   NaN  NaN  \n",
       "1      3.9   NaN  NaN  \n",
       "2      2.2   NaN  NaN  \n",
       "3      3.8   NaN  NaN  \n",
       "4      2.7   NaN  NaN  "
      ],
      "text/html": "<div>\n<style scoped>\n    .dataframe tbody tr th:only-of-type {\n        vertical-align: middle;\n    }\n\n    .dataframe tbody tr th {\n        vertical-align: top;\n    }\n\n    .dataframe thead th {\n        text-align: right;\n    }\n</style>\n<table border=\"1\" class=\"dataframe\">\n  <thead>\n    <tr style=\"text-align: right;\">\n      <th></th>\n      <th>Unnamed: 0</th>\n      <th>S.No</th>\n      <th>book_id</th>\n      <th>book_name</th>\n      <th>genre</th>\n      <th>summary</th>\n      <th>ratings</th>\n      <th>year</th>\n      <th>age</th>\n    </tr>\n  </thead>\n  <tbody>\n    <tr>\n      <th>0</th>\n      <td>0</td>\n      <td>0</td>\n      <td>620</td>\n      <td>Animal Farm</td>\n      <td>Roman à clef</td>\n      <td>old major the old boar on the manor farm calls...</td>\n      <td>2.1</td>\n      <td>NaN</td>\n      <td>NaN</td>\n    </tr>\n    <tr>\n      <th>1</th>\n      <td>1</td>\n      <td>1</td>\n      <td>843</td>\n      <td>A Clockwork Orange</td>\n      <td>Science Fiction</td>\n      <td>alex a teenager living in near future england ...</td>\n      <td>3.9</td>\n      <td>NaN</td>\n      <td>NaN</td>\n    </tr>\n    <tr>\n      <th>2</th>\n      <td>2</td>\n      <td>2</td>\n      <td>986</td>\n      <td>The Plague</td>\n      <td>Existentialism</td>\n      <td>the text of the plague is divided into five pa...</td>\n      <td>2.2</td>\n      <td>NaN</td>\n      <td>NaN</td>\n    </tr>\n    <tr>\n      <th>3</th>\n      <td>3</td>\n      <td>4</td>\n      <td>2080</td>\n      <td>A Fire Upon the Deep</td>\n      <td>Hard science fiction</td>\n      <td>the novel posits that space around the milky w...</td>\n      <td>3.8</td>\n      <td>NaN</td>\n      <td>NaN</td>\n    </tr>\n    <tr>\n      <th>4</th>\n      <td>4</td>\n      <td>5</td>\n      <td>2152</td>\n      <td>All Quiet on the Western Front</td>\n      <td>War novel</td>\n      <td>the book tells the story of paul b umer a germ...</td>\n      <td>2.7</td>\n      <td>NaN</td>\n      <td>NaN</td>\n    </tr>\n  </tbody>\n</table>\n</div>"
     },
     "metadata": {},
     "execution_count": 17
    }
   ],
   "source": [
    "book_summaries = pd.read_csv(\"book_summaries.csv\")\n",
    "book_summaries.head()"
   ]
  },
  {
   "cell_type": "code",
   "execution_count": 18,
   "metadata": {},
   "outputs": [],
   "source": [
    "book_summaries['year'] = book_summaries.year.apply(lambda x: np.random.randint(1801,2021))"
   ]
  },
  {
   "cell_type": "code",
   "execution_count": 19,
   "metadata": {},
   "outputs": [
    {
     "output_type": "execute_result",
     "data": {
      "text/plain": [
       "   Unnamed: 0  S.No  book_id                       book_name  \\\n",
       "0           0     0      620                     Animal Farm   \n",
       "1           1     1      843              A Clockwork Orange   \n",
       "2           2     2      986                      The Plague   \n",
       "3           3     4     2080            A Fire Upon the Deep   \n",
       "4           4     5     2152  All Quiet on the Western Front   \n",
       "\n",
       "                  genre                                            summary  \\\n",
       "0          Roman à clef  old major the old boar on the manor farm calls...   \n",
       "1       Science Fiction  alex a teenager living in near future england ...   \n",
       "2        Existentialism  the text of the plague is divided into five pa...   \n",
       "3  Hard science fiction  the novel posits that space around the milky w...   \n",
       "4             War novel  the book tells the story of paul b umer a germ...   \n",
       "\n",
       "   ratings  year  age  \n",
       "0      2.1  1838  NaN  \n",
       "1      3.9  1810  NaN  \n",
       "2      2.2  1931  NaN  \n",
       "3      3.8  1965  NaN  \n",
       "4      2.7  1988  NaN  "
      ],
      "text/html": "<div>\n<style scoped>\n    .dataframe tbody tr th:only-of-type {\n        vertical-align: middle;\n    }\n\n    .dataframe tbody tr th {\n        vertical-align: top;\n    }\n\n    .dataframe thead th {\n        text-align: right;\n    }\n</style>\n<table border=\"1\" class=\"dataframe\">\n  <thead>\n    <tr style=\"text-align: right;\">\n      <th></th>\n      <th>Unnamed: 0</th>\n      <th>S.No</th>\n      <th>book_id</th>\n      <th>book_name</th>\n      <th>genre</th>\n      <th>summary</th>\n      <th>ratings</th>\n      <th>year</th>\n      <th>age</th>\n    </tr>\n  </thead>\n  <tbody>\n    <tr>\n      <th>0</th>\n      <td>0</td>\n      <td>0</td>\n      <td>620</td>\n      <td>Animal Farm</td>\n      <td>Roman à clef</td>\n      <td>old major the old boar on the manor farm calls...</td>\n      <td>2.1</td>\n      <td>1838</td>\n      <td>NaN</td>\n    </tr>\n    <tr>\n      <th>1</th>\n      <td>1</td>\n      <td>1</td>\n      <td>843</td>\n      <td>A Clockwork Orange</td>\n      <td>Science Fiction</td>\n      <td>alex a teenager living in near future england ...</td>\n      <td>3.9</td>\n      <td>1810</td>\n      <td>NaN</td>\n    </tr>\n    <tr>\n      <th>2</th>\n      <td>2</td>\n      <td>2</td>\n      <td>986</td>\n      <td>The Plague</td>\n      <td>Existentialism</td>\n      <td>the text of the plague is divided into five pa...</td>\n      <td>2.2</td>\n      <td>1931</td>\n      <td>NaN</td>\n    </tr>\n    <tr>\n      <th>3</th>\n      <td>3</td>\n      <td>4</td>\n      <td>2080</td>\n      <td>A Fire Upon the Deep</td>\n      <td>Hard science fiction</td>\n      <td>the novel posits that space around the milky w...</td>\n      <td>3.8</td>\n      <td>1965</td>\n      <td>NaN</td>\n    </tr>\n    <tr>\n      <th>4</th>\n      <td>4</td>\n      <td>5</td>\n      <td>2152</td>\n      <td>All Quiet on the Western Front</td>\n      <td>War novel</td>\n      <td>the book tells the story of paul b umer a germ...</td>\n      <td>2.7</td>\n      <td>1988</td>\n      <td>NaN</td>\n    </tr>\n  </tbody>\n</table>\n</div>"
     },
     "metadata": {},
     "execution_count": 19
    }
   ],
   "source": [
    "book_summaries.head()"
   ]
  },
  {
   "cell_type": "code",
   "execution_count": 20,
   "metadata": {},
   "outputs": [
    {
     "output_type": "execute_result",
     "data": {
      "text/plain": [
       "0"
      ]
     },
     "metadata": {},
     "execution_count": 20
    }
   ],
   "source": [
    "book_summaries.year.isnull().sum()"
   ]
  },
  {
   "cell_type": "code",
   "execution_count": 21,
   "metadata": {},
   "outputs": [
    {
     "output_type": "execute_result",
     "data": {
      "text/plain": [
       "array([1838, 1810, 1931, 1965, 1988, 1941, 1818, 2010, 2014, 1836, 1914,\n",
       "       1971, 2004, 1989, 1884, 1903, 1831, 1815, 1964, 1960, 1939, 1958,\n",
       "       1885, 1802, 2018, 1912, 1827, 1934, 1805, 1975, 1950, 1972, 1850,\n",
       "       1999, 1878, 1848, 1995, 1892, 1940, 1846, 1906, 1959, 1881, 2005,\n",
       "       1923, 1845, 1919, 2015, 1952, 1951, 1957, 1835, 1816, 1814, 1834,\n",
       "       1821, 1803, 1860, 2009, 1809, 1889, 1826, 1823, 1961, 1828, 1918,\n",
       "       1948, 1851, 1913, 2011, 1841, 1879, 1969, 1922, 1991, 1856, 1822,\n",
       "       1998, 1891, 1927, 1877, 1820, 1915, 2019, 1974, 1982, 2002, 1833,\n",
       "       1909, 1862, 1863, 1899, 1837, 1872, 1829, 1890, 1896, 2007, 2008,\n",
       "       1993, 1946, 1840, 1936, 1813, 1871, 1886, 1953, 1907, 1956, 1868,\n",
       "       1905, 1852, 1920, 1916, 1945, 1842, 1859, 2020, 1930, 1801, 1925,\n",
       "       1849, 1870, 1924, 1843, 1825, 1943, 1807, 1977, 1980, 2000, 1857,\n",
       "       1900, 1955, 1992, 1817, 1867, 1901, 1866, 1949, 1921, 1908, 1806,\n",
       "       1954, 1895, 2006, 1968, 1847, 1979, 2016, 1926, 2001, 1898, 1911,\n",
       "       1997, 1876, 1839, 1935, 1854, 1970, 1985, 1984, 1928, 1917, 1983,\n",
       "       2017, 2013, 1994, 1937, 1873, 1893, 1996, 1811, 1973, 2003, 1938,\n",
       "       1981, 1963, 1894, 1882, 1978, 1902, 1844, 1987, 1880, 1832, 1962,\n",
       "       1819, 1830, 1929, 1869, 1986, 1808, 1944, 1883, 1874, 1888, 1947,\n",
       "       1804, 1858, 2012, 1824, 1853, 1942, 1887, 1904, 1897, 1875, 1933,\n",
       "       1910, 1812, 1861, 1855, 1967, 1932, 1864, 1990, 1865, 1966, 1976],\n",
       "      dtype=int64)"
      ]
     },
     "metadata": {},
     "execution_count": 21
    }
   ],
   "source": [
    "book_summaries.year.unique()"
   ]
  },
  {
   "cell_type": "code",
   "execution_count": 22,
   "metadata": {},
   "outputs": [],
   "source": [
    "book_summaries['age'] = book_summaries.age.apply(lambda x: np.random.randint(10,65))"
   ]
  },
  {
   "cell_type": "code",
   "execution_count": 23,
   "metadata": {},
   "outputs": [
    {
     "output_type": "execute_result",
     "data": {
      "text/plain": [
       "   Unnamed: 0  S.No  book_id                       book_name  \\\n",
       "0           0     0      620                     Animal Farm   \n",
       "1           1     1      843              A Clockwork Orange   \n",
       "2           2     2      986                      The Plague   \n",
       "3           3     4     2080            A Fire Upon the Deep   \n",
       "4           4     5     2152  All Quiet on the Western Front   \n",
       "\n",
       "                  genre                                            summary  \\\n",
       "0          Roman à clef  old major the old boar on the manor farm calls...   \n",
       "1       Science Fiction  alex a teenager living in near future england ...   \n",
       "2        Existentialism  the text of the plague is divided into five pa...   \n",
       "3  Hard science fiction  the novel posits that space around the milky w...   \n",
       "4             War novel  the book tells the story of paul b umer a germ...   \n",
       "\n",
       "   ratings  year  age  \n",
       "0      2.1  1838   64  \n",
       "1      3.9  1810   20  \n",
       "2      2.2  1931   24  \n",
       "3      3.8  1965   60  \n",
       "4      2.7  1988   10  "
      ],
      "text/html": "<div>\n<style scoped>\n    .dataframe tbody tr th:only-of-type {\n        vertical-align: middle;\n    }\n\n    .dataframe tbody tr th {\n        vertical-align: top;\n    }\n\n    .dataframe thead th {\n        text-align: right;\n    }\n</style>\n<table border=\"1\" class=\"dataframe\">\n  <thead>\n    <tr style=\"text-align: right;\">\n      <th></th>\n      <th>Unnamed: 0</th>\n      <th>S.No</th>\n      <th>book_id</th>\n      <th>book_name</th>\n      <th>genre</th>\n      <th>summary</th>\n      <th>ratings</th>\n      <th>year</th>\n      <th>age</th>\n    </tr>\n  </thead>\n  <tbody>\n    <tr>\n      <th>0</th>\n      <td>0</td>\n      <td>0</td>\n      <td>620</td>\n      <td>Animal Farm</td>\n      <td>Roman à clef</td>\n      <td>old major the old boar on the manor farm calls...</td>\n      <td>2.1</td>\n      <td>1838</td>\n      <td>64</td>\n    </tr>\n    <tr>\n      <th>1</th>\n      <td>1</td>\n      <td>1</td>\n      <td>843</td>\n      <td>A Clockwork Orange</td>\n      <td>Science Fiction</td>\n      <td>alex a teenager living in near future england ...</td>\n      <td>3.9</td>\n      <td>1810</td>\n      <td>20</td>\n    </tr>\n    <tr>\n      <th>2</th>\n      <td>2</td>\n      <td>2</td>\n      <td>986</td>\n      <td>The Plague</td>\n      <td>Existentialism</td>\n      <td>the text of the plague is divided into five pa...</td>\n      <td>2.2</td>\n      <td>1931</td>\n      <td>24</td>\n    </tr>\n    <tr>\n      <th>3</th>\n      <td>3</td>\n      <td>4</td>\n      <td>2080</td>\n      <td>A Fire Upon the Deep</td>\n      <td>Hard science fiction</td>\n      <td>the novel posits that space around the milky w...</td>\n      <td>3.8</td>\n      <td>1965</td>\n      <td>60</td>\n    </tr>\n    <tr>\n      <th>4</th>\n      <td>4</td>\n      <td>5</td>\n      <td>2152</td>\n      <td>All Quiet on the Western Front</td>\n      <td>War novel</td>\n      <td>the book tells the story of paul b umer a germ...</td>\n      <td>2.7</td>\n      <td>1988</td>\n      <td>10</td>\n    </tr>\n  </tbody>\n</table>\n</div>"
     },
     "metadata": {},
     "execution_count": 23
    }
   ],
   "source": [
    "book_summaries.head()"
   ]
  },
  {
   "cell_type": "code",
   "execution_count": 25,
   "metadata": {},
   "outputs": [],
   "source": [
    "book_summaries.to_csv(\"book_summaries1.csv\")"
   ]
  },
  {
   "cell_type": "code",
   "execution_count": null,
   "metadata": {},
   "outputs": [],
   "source": []
  }
 ]
}