{
 "metadata": {
  "language_info": {
   "codemirror_mode": {
    "name": "ipython",
    "version": 3
   },
   "file_extension": ".py",
   "mimetype": "text/x-python",
   "name": "python",
   "nbconvert_exporter": "python",
   "pygments_lexer": "ipython3",
   "version": "3.9.2"
  },
  "orig_nbformat": 2,
  "kernelspec": {
   "name": "python392jvsc74a57bd0578ce72e72bd9f13049fd4c13d9f5b1c81715c13ddea0a3c61ff70756cb5d6d4",
   "display_name": "Python 3.9.2 64-bit"
  },
  "metadata": {
   "interpreter": {
    "hash": "578ce72e72bd9f13049fd4c13d9f5b1c81715c13ddea0a3c61ff70756cb5d6d4"
   }
  }
 },
 "nbformat": 4,
 "nbformat_minor": 2,
 "cells": [
  {
   "cell_type": "code",
   "execution_count": 1,
   "metadata": {},
   "outputs": [],
   "source": [
    "import numpy as np \n",
    "import pandas as pd\n",
    "import matplotlib.pyplot as plt \n",
    "import seaborn as sns\n",
    "import sklearn\n",
    "import warnings; warnings.simplefilter('ignore')"
   ]
  },
  {
   "cell_type": "code",
   "execution_count": 2,
   "metadata": {},
   "outputs": [],
   "source": [
    "book_data = pd.read_csv('book_summaries1.csv')"
   ]
  },
  {
   "cell_type": "code",
   "execution_count": 3,
   "metadata": {},
   "outputs": [
    {
     "output_type": "execute_result",
     "data": {
      "text/plain": [
       "   book_id                       book_name                 genre  \\\n",
       "0      620                     Animal Farm          Roman à clef   \n",
       "1      843              A Clockwork Orange       Science Fiction   \n",
       "2      986                      The Plague        Existentialism   \n",
       "3     2080            A Fire Upon the Deep  Hard science fiction   \n",
       "4     2152  All Quiet on the Western Front             War novel   \n",
       "\n",
       "                                             summary  ratings  year  age  \n",
       "0  old major the old boar on the manor farm calls...      2.1  1838   64  \n",
       "1  alex a teenager living in near future england ...      3.9  1810   20  \n",
       "2  the text of the plague is divided into five pa...      2.2  1931   24  \n",
       "3  the novel posits that space around the milky w...      3.8  1965   60  \n",
       "4  the book tells the story of paul b umer a germ...      2.7  1988   10  "
      ],
      "text/html": "<div>\n<style scoped>\n    .dataframe tbody tr th:only-of-type {\n        vertical-align: middle;\n    }\n\n    .dataframe tbody tr th {\n        vertical-align: top;\n    }\n\n    .dataframe thead th {\n        text-align: right;\n    }\n</style>\n<table border=\"1\" class=\"dataframe\">\n  <thead>\n    <tr style=\"text-align: right;\">\n      <th></th>\n      <th>book_id</th>\n      <th>book_name</th>\n      <th>genre</th>\n      <th>summary</th>\n      <th>ratings</th>\n      <th>year</th>\n      <th>age</th>\n    </tr>\n  </thead>\n  <tbody>\n    <tr>\n      <th>0</th>\n      <td>620</td>\n      <td>Animal Farm</td>\n      <td>Roman à clef</td>\n      <td>old major the old boar on the manor farm calls...</td>\n      <td>2.1</td>\n      <td>1838</td>\n      <td>64</td>\n    </tr>\n    <tr>\n      <th>1</th>\n      <td>843</td>\n      <td>A Clockwork Orange</td>\n      <td>Science Fiction</td>\n      <td>alex a teenager living in near future england ...</td>\n      <td>3.9</td>\n      <td>1810</td>\n      <td>20</td>\n    </tr>\n    <tr>\n      <th>2</th>\n      <td>986</td>\n      <td>The Plague</td>\n      <td>Existentialism</td>\n      <td>the text of the plague is divided into five pa...</td>\n      <td>2.2</td>\n      <td>1931</td>\n      <td>24</td>\n    </tr>\n    <tr>\n      <th>3</th>\n      <td>2080</td>\n      <td>A Fire Upon the Deep</td>\n      <td>Hard science fiction</td>\n      <td>the novel posits that space around the milky w...</td>\n      <td>3.8</td>\n      <td>1965</td>\n      <td>60</td>\n    </tr>\n    <tr>\n      <th>4</th>\n      <td>2152</td>\n      <td>All Quiet on the Western Front</td>\n      <td>War novel</td>\n      <td>the book tells the story of paul b umer a germ...</td>\n      <td>2.7</td>\n      <td>1988</td>\n      <td>10</td>\n    </tr>\n  </tbody>\n</table>\n</div>"
     },
     "metadata": {},
     "execution_count": 3
    }
   ],
   "source": [
    "book_data.head()"
   ]
  },
  {
   "cell_type": "code",
   "execution_count": 4,
   "metadata": {},
   "outputs": [],
   "source": [
    "user_data = pd.read_csv('UserData.csv')"
   ]
  },
  {
   "cell_type": "code",
   "execution_count": 5,
   "metadata": {},
   "outputs": [
    {
     "output_type": "execute_result",
     "data": {
      "text/plain": [
       "   User-ID                            Location   Age\n",
       "0        1                  nyc, new york, usa   NaN\n",
       "1        2           stockton, california, usa  18.0\n",
       "2        3     moscow, yukon territory, russia   NaN\n",
       "3        4           porto, v.n.gaia, portugal  17.0\n",
       "4        5  farnborough, hants, united kingdom   NaN"
      ],
      "text/html": "<div>\n<style scoped>\n    .dataframe tbody tr th:only-of-type {\n        vertical-align: middle;\n    }\n\n    .dataframe tbody tr th {\n        vertical-align: top;\n    }\n\n    .dataframe thead th {\n        text-align: right;\n    }\n</style>\n<table border=\"1\" class=\"dataframe\">\n  <thead>\n    <tr style=\"text-align: right;\">\n      <th></th>\n      <th>User-ID</th>\n      <th>Location</th>\n      <th>Age</th>\n    </tr>\n  </thead>\n  <tbody>\n    <tr>\n      <th>0</th>\n      <td>1</td>\n      <td>nyc, new york, usa</td>\n      <td>NaN</td>\n    </tr>\n    <tr>\n      <th>1</th>\n      <td>2</td>\n      <td>stockton, california, usa</td>\n      <td>18.0</td>\n    </tr>\n    <tr>\n      <th>2</th>\n      <td>3</td>\n      <td>moscow, yukon territory, russia</td>\n      <td>NaN</td>\n    </tr>\n    <tr>\n      <th>3</th>\n      <td>4</td>\n      <td>porto, v.n.gaia, portugal</td>\n      <td>17.0</td>\n    </tr>\n    <tr>\n      <th>4</th>\n      <td>5</td>\n      <td>farnborough, hants, united kingdom</td>\n      <td>NaN</td>\n    </tr>\n  </tbody>\n</table>\n</div>"
     },
     "metadata": {},
     "execution_count": 5
    }
   ],
   "source": [
    "user_data.head()"
   ]
  },
  {
   "cell_type": "code",
   "execution_count": 6,
   "metadata": {},
   "outputs": [],
   "source": [
    "rating_data = pd.read_csv(\"ratings.csv\")"
   ]
  },
  {
   "cell_type": "code",
   "execution_count": 7,
   "metadata": {},
   "outputs": [
    {
     "output_type": "execute_result",
     "data": {
      "text/plain": [
       "   Unnamed: 0  User_ID   book_id  Book_Rating\n",
       "0           0   276725  26895596          2.4\n",
       "1           1   276726  23266533          4.9\n",
       "2           2   276727    386568          3.4\n",
       "3           3   276729   1133955          3.4\n",
       "4           4   276729  11389275          2.6"
      ],
      "text/html": "<div>\n<style scoped>\n    .dataframe tbody tr th:only-of-type {\n        vertical-align: middle;\n    }\n\n    .dataframe tbody tr th {\n        vertical-align: top;\n    }\n\n    .dataframe thead th {\n        text-align: right;\n    }\n</style>\n<table border=\"1\" class=\"dataframe\">\n  <thead>\n    <tr style=\"text-align: right;\">\n      <th></th>\n      <th>Unnamed: 0</th>\n      <th>User_ID</th>\n      <th>book_id</th>\n      <th>Book_Rating</th>\n    </tr>\n  </thead>\n  <tbody>\n    <tr>\n      <th>0</th>\n      <td>0</td>\n      <td>276725</td>\n      <td>26895596</td>\n      <td>2.4</td>\n    </tr>\n    <tr>\n      <th>1</th>\n      <td>1</td>\n      <td>276726</td>\n      <td>23266533</td>\n      <td>4.9</td>\n    </tr>\n    <tr>\n      <th>2</th>\n      <td>2</td>\n      <td>276727</td>\n      <td>386568</td>\n      <td>3.4</td>\n    </tr>\n    <tr>\n      <th>3</th>\n      <td>3</td>\n      <td>276729</td>\n      <td>1133955</td>\n      <td>3.4</td>\n    </tr>\n    <tr>\n      <th>4</th>\n      <td>4</td>\n      <td>276729</td>\n      <td>11389275</td>\n      <td>2.6</td>\n    </tr>\n  </tbody>\n</table>\n</div>"
     },
     "metadata": {},
     "execution_count": 7
    }
   ],
   "source": [
    "rating_data.head()"
   ]
  },
  {
   "cell_type": "code",
   "execution_count": 8,
   "metadata": {},
   "outputs": [],
   "source": [
    "book_data.drop('summary',axis='columns',inplace=True)"
   ]
  },
  {
   "cell_type": "code",
   "execution_count": 9,
   "metadata": {},
   "outputs": [
    {
     "output_type": "execute_result",
     "data": {
      "text/plain": [
       "   book_id                       book_name                 genre  ratings  \\\n",
       "0      620                     Animal Farm          Roman à clef      2.1   \n",
       "1      843              A Clockwork Orange       Science Fiction      3.9   \n",
       "2      986                      The Plague        Existentialism      2.2   \n",
       "3     2080            A Fire Upon the Deep  Hard science fiction      3.8   \n",
       "4     2152  All Quiet on the Western Front             War novel      2.7   \n",
       "\n",
       "   year  age  \n",
       "0  1838   64  \n",
       "1  1810   20  \n",
       "2  1931   24  \n",
       "3  1965   60  \n",
       "4  1988   10  "
      ],
      "text/html": "<div>\n<style scoped>\n    .dataframe tbody tr th:only-of-type {\n        vertical-align: middle;\n    }\n\n    .dataframe tbody tr th {\n        vertical-align: top;\n    }\n\n    .dataframe thead th {\n        text-align: right;\n    }\n</style>\n<table border=\"1\" class=\"dataframe\">\n  <thead>\n    <tr style=\"text-align: right;\">\n      <th></th>\n      <th>book_id</th>\n      <th>book_name</th>\n      <th>genre</th>\n      <th>ratings</th>\n      <th>year</th>\n      <th>age</th>\n    </tr>\n  </thead>\n  <tbody>\n    <tr>\n      <th>0</th>\n      <td>620</td>\n      <td>Animal Farm</td>\n      <td>Roman à clef</td>\n      <td>2.1</td>\n      <td>1838</td>\n      <td>64</td>\n    </tr>\n    <tr>\n      <th>1</th>\n      <td>843</td>\n      <td>A Clockwork Orange</td>\n      <td>Science Fiction</td>\n      <td>3.9</td>\n      <td>1810</td>\n      <td>20</td>\n    </tr>\n    <tr>\n      <th>2</th>\n      <td>986</td>\n      <td>The Plague</td>\n      <td>Existentialism</td>\n      <td>2.2</td>\n      <td>1931</td>\n      <td>24</td>\n    </tr>\n    <tr>\n      <th>3</th>\n      <td>2080</td>\n      <td>A Fire Upon the Deep</td>\n      <td>Hard science fiction</td>\n      <td>3.8</td>\n      <td>1965</td>\n      <td>60</td>\n    </tr>\n    <tr>\n      <th>4</th>\n      <td>2152</td>\n      <td>All Quiet on the Western Front</td>\n      <td>War novel</td>\n      <td>2.7</td>\n      <td>1988</td>\n      <td>10</td>\n    </tr>\n  </tbody>\n</table>\n</div>"
     },
     "metadata": {},
     "execution_count": 9
    }
   ],
   "source": [
    "book_data.head()"
   ]
  },
  {
   "cell_type": "code",
   "execution_count": 10,
   "metadata": {},
   "outputs": [
    {
     "output_type": "execute_result",
     "data": {
      "text/plain": [
       "        book_id                       book_name  ratings  year  age  \\\n",
       "0           620                     Animal Farm      2.1  1838   64   \n",
       "1           843              A Clockwork Orange      3.9  1810   20   \n",
       "2           986                      The Plague      2.2  1931   24   \n",
       "3          2080            A Fire Upon the Deep      3.8  1965   60   \n",
       "4          2152  All Quiet on the Western Front      2.7  1988   10   \n",
       "...         ...                             ...      ...   ...  ...   \n",
       "12836  36372465                  The Third Lynx      2.2  1979   15   \n",
       "12837  36534061                  Remote Control      3.5  1975   27   \n",
       "12838  37054020               Transfer of Power      2.0  1817   60   \n",
       "12839  37122323                         Decoded      2.3  1963   12   \n",
       "12840  37159503                       Poor Folk      3.6  1941   48   \n",
       "\n",
       "       genre_\"Childrens literature\"  genre_Absurdist fiction  genre_Adventure  \\\n",
       "0                                 0                        0                0   \n",
       "1                                 0                        0                0   \n",
       "2                                 0                        0                0   \n",
       "3                                 0                        0                0   \n",
       "4                                 0                        0                0   \n",
       "...                             ...                      ...              ...   \n",
       "12836                             0                        0                0   \n",
       "12837                             0                        0                0   \n",
       "12838                             0                        0                0   \n",
       "12839                             0                        0                0   \n",
       "12840                             0                        0                0   \n",
       "\n",
       "       genre_Adventure novel  genre_Albino bias  ...  genre_Urban fantasy  \\\n",
       "0                          0                  0  ...                    0   \n",
       "1                          0                  0  ...                    0   \n",
       "2                          0                  0  ...                    0   \n",
       "3                          0                  0  ...                    0   \n",
       "4                          0                  0  ...                    0   \n",
       "...                      ...                ...  ...                  ...   \n",
       "12836                      0                  0  ...                    0   \n",
       "12837                      0                  0  ...                    0   \n",
       "12838                      0                  0  ...                    0   \n",
       "12839                      0                  0  ...                    0   \n",
       "12840                      0                  0  ...                    0   \n",
       "\n",
       "       genre_Urban fiction  genre_Utopian and dystopian fiction  \\\n",
       "0                        0                                    0   \n",
       "1                        0                                    0   \n",
       "2                        0                                    0   \n",
       "3                        0                                    0   \n",
       "4                        0                                    0   \n",
       "...                    ...                                  ...   \n",
       "12836                    0                                    0   \n",
       "12837                    0                                    0   \n",
       "12838                    0                                    0   \n",
       "12839                    0                                    0   \n",
       "12840                    0                                    0   \n",
       "\n",
       "       genre_Utopian fiction  genre_Vampire fiction  genre_War novel  \\\n",
       "0                          0                      0                0   \n",
       "1                          0                      0                0   \n",
       "2                          0                      0                0   \n",
       "3                          0                      0                0   \n",
       "4                          0                      0                1   \n",
       "...                      ...                    ...              ...   \n",
       "12836                      0                      0                0   \n",
       "12837                      0                      0                0   \n",
       "12838                      0                      0                0   \n",
       "12839                      0                      0                0   \n",
       "12840                      0                      0                0   \n",
       "\n",
       "       genre_Western  genre_Western fiction  genre_Wuxia  \\\n",
       "0                  0                      0            0   \n",
       "1                  0                      0            0   \n",
       "2                  0                      0            0   \n",
       "3                  0                      0            0   \n",
       "4                  0                      0            0   \n",
       "...              ...                    ...          ...   \n",
       "12836              0                      0            0   \n",
       "12837              0                      0            0   \n",
       "12838              0                      0            0   \n",
       "12839              0                      0            0   \n",
       "12840              0                      0            0   \n",
       "\n",
       "       genre_Young adult literature  \n",
       "0                                 0  \n",
       "1                                 0  \n",
       "2                                 0  \n",
       "3                                 0  \n",
       "4                                 0  \n",
       "...                             ...  \n",
       "12836                             0  \n",
       "12837                             0  \n",
       "12838                             0  \n",
       "12839                             0  \n",
       "12840                             0  \n",
       "\n",
       "[12841 rows x 184 columns]"
      ],
      "text/html": "<div>\n<style scoped>\n    .dataframe tbody tr th:only-of-type {\n        vertical-align: middle;\n    }\n\n    .dataframe tbody tr th {\n        vertical-align: top;\n    }\n\n    .dataframe thead th {\n        text-align: right;\n    }\n</style>\n<table border=\"1\" class=\"dataframe\">\n  <thead>\n    <tr style=\"text-align: right;\">\n      <th></th>\n      <th>book_id</th>\n      <th>book_name</th>\n      <th>ratings</th>\n      <th>year</th>\n      <th>age</th>\n      <th>genre_\"Childrens literature\"</th>\n      <th>genre_Absurdist fiction</th>\n      <th>genre_Adventure</th>\n      <th>genre_Adventure novel</th>\n      <th>genre_Albino bias</th>\n      <th>...</th>\n      <th>genre_Urban fantasy</th>\n      <th>genre_Urban fiction</th>\n      <th>genre_Utopian and dystopian fiction</th>\n      <th>genre_Utopian fiction</th>\n      <th>genre_Vampire fiction</th>\n      <th>genre_War novel</th>\n      <th>genre_Western</th>\n      <th>genre_Western fiction</th>\n      <th>genre_Wuxia</th>\n      <th>genre_Young adult literature</th>\n    </tr>\n  </thead>\n  <tbody>\n    <tr>\n      <th>0</th>\n      <td>620</td>\n      <td>Animal Farm</td>\n      <td>2.1</td>\n      <td>1838</td>\n      <td>64</td>\n      <td>0</td>\n      <td>0</td>\n      <td>0</td>\n      <td>0</td>\n      <td>0</td>\n      <td>...</td>\n      <td>0</td>\n      <td>0</td>\n      <td>0</td>\n      <td>0</td>\n      <td>0</td>\n      <td>0</td>\n      <td>0</td>\n      <td>0</td>\n      <td>0</td>\n      <td>0</td>\n    </tr>\n    <tr>\n      <th>1</th>\n      <td>843</td>\n      <td>A Clockwork Orange</td>\n      <td>3.9</td>\n      <td>1810</td>\n      <td>20</td>\n      <td>0</td>\n      <td>0</td>\n      <td>0</td>\n      <td>0</td>\n      <td>0</td>\n      <td>...</td>\n      <td>0</td>\n      <td>0</td>\n      <td>0</td>\n      <td>0</td>\n      <td>0</td>\n      <td>0</td>\n      <td>0</td>\n      <td>0</td>\n      <td>0</td>\n      <td>0</td>\n    </tr>\n    <tr>\n      <th>2</th>\n      <td>986</td>\n      <td>The Plague</td>\n      <td>2.2</td>\n      <td>1931</td>\n      <td>24</td>\n      <td>0</td>\n      <td>0</td>\n      <td>0</td>\n      <td>0</td>\n      <td>0</td>\n      <td>...</td>\n      <td>0</td>\n      <td>0</td>\n      <td>0</td>\n      <td>0</td>\n      <td>0</td>\n      <td>0</td>\n      <td>0</td>\n      <td>0</td>\n      <td>0</td>\n      <td>0</td>\n    </tr>\n    <tr>\n      <th>3</th>\n      <td>2080</td>\n      <td>A Fire Upon the Deep</td>\n      <td>3.8</td>\n      <td>1965</td>\n      <td>60</td>\n      <td>0</td>\n      <td>0</td>\n      <td>0</td>\n      <td>0</td>\n      <td>0</td>\n      <td>...</td>\n      <td>0</td>\n      <td>0</td>\n      <td>0</td>\n      <td>0</td>\n      <td>0</td>\n      <td>0</td>\n      <td>0</td>\n      <td>0</td>\n      <td>0</td>\n      <td>0</td>\n    </tr>\n    <tr>\n      <th>4</th>\n      <td>2152</td>\n      <td>All Quiet on the Western Front</td>\n      <td>2.7</td>\n      <td>1988</td>\n      <td>10</td>\n      <td>0</td>\n      <td>0</td>\n      <td>0</td>\n      <td>0</td>\n      <td>0</td>\n      <td>...</td>\n      <td>0</td>\n      <td>0</td>\n      <td>0</td>\n      <td>0</td>\n      <td>0</td>\n      <td>1</td>\n      <td>0</td>\n      <td>0</td>\n      <td>0</td>\n      <td>0</td>\n    </tr>\n    <tr>\n      <th>...</th>\n      <td>...</td>\n      <td>...</td>\n      <td>...</td>\n      <td>...</td>\n      <td>...</td>\n      <td>...</td>\n      <td>...</td>\n      <td>...</td>\n      <td>...</td>\n      <td>...</td>\n      <td>...</td>\n      <td>...</td>\n      <td>...</td>\n      <td>...</td>\n      <td>...</td>\n      <td>...</td>\n      <td>...</td>\n      <td>...</td>\n      <td>...</td>\n      <td>...</td>\n      <td>...</td>\n    </tr>\n    <tr>\n      <th>12836</th>\n      <td>36372465</td>\n      <td>The Third Lynx</td>\n      <td>2.2</td>\n      <td>1979</td>\n      <td>15</td>\n      <td>0</td>\n      <td>0</td>\n      <td>0</td>\n      <td>0</td>\n      <td>0</td>\n      <td>...</td>\n      <td>0</td>\n      <td>0</td>\n      <td>0</td>\n      <td>0</td>\n      <td>0</td>\n      <td>0</td>\n      <td>0</td>\n      <td>0</td>\n      <td>0</td>\n      <td>0</td>\n    </tr>\n    <tr>\n      <th>12837</th>\n      <td>36534061</td>\n      <td>Remote Control</td>\n      <td>3.5</td>\n      <td>1975</td>\n      <td>27</td>\n      <td>0</td>\n      <td>0</td>\n      <td>0</td>\n      <td>0</td>\n      <td>0</td>\n      <td>...</td>\n      <td>0</td>\n      <td>0</td>\n      <td>0</td>\n      <td>0</td>\n      <td>0</td>\n      <td>0</td>\n      <td>0</td>\n      <td>0</td>\n      <td>0</td>\n      <td>0</td>\n    </tr>\n    <tr>\n      <th>12838</th>\n      <td>37054020</td>\n      <td>Transfer of Power</td>\n      <td>2.0</td>\n      <td>1817</td>\n      <td>60</td>\n      <td>0</td>\n      <td>0</td>\n      <td>0</td>\n      <td>0</td>\n      <td>0</td>\n      <td>...</td>\n      <td>0</td>\n      <td>0</td>\n      <td>0</td>\n      <td>0</td>\n      <td>0</td>\n      <td>0</td>\n      <td>0</td>\n      <td>0</td>\n      <td>0</td>\n      <td>0</td>\n    </tr>\n    <tr>\n      <th>12839</th>\n      <td>37122323</td>\n      <td>Decoded</td>\n      <td>2.3</td>\n      <td>1963</td>\n      <td>12</td>\n      <td>0</td>\n      <td>0</td>\n      <td>0</td>\n      <td>0</td>\n      <td>0</td>\n      <td>...</td>\n      <td>0</td>\n      <td>0</td>\n      <td>0</td>\n      <td>0</td>\n      <td>0</td>\n      <td>0</td>\n      <td>0</td>\n      <td>0</td>\n      <td>0</td>\n      <td>0</td>\n    </tr>\n    <tr>\n      <th>12840</th>\n      <td>37159503</td>\n      <td>Poor Folk</td>\n      <td>3.6</td>\n      <td>1941</td>\n      <td>48</td>\n      <td>0</td>\n      <td>0</td>\n      <td>0</td>\n      <td>0</td>\n      <td>0</td>\n      <td>...</td>\n      <td>0</td>\n      <td>0</td>\n      <td>0</td>\n      <td>0</td>\n      <td>0</td>\n      <td>0</td>\n      <td>0</td>\n      <td>0</td>\n      <td>0</td>\n      <td>0</td>\n    </tr>\n  </tbody>\n</table>\n<p>12841 rows × 184 columns</p>\n</div>"
     },
     "metadata": {},
     "execution_count": 10
    }
   ],
   "source": [
    "pd.get_dummies(book_data,columns=['genre'])"
   ]
  },
  {
   "cell_type": "code",
   "execution_count": 11,
   "metadata": {},
   "outputs": [],
   "source": [
    "book_data.drop('age',axis='columns',inplace=True)"
   ]
  },
  {
   "cell_type": "code",
   "execution_count": 12,
   "metadata": {},
   "outputs": [],
   "source": [
    "book_data = pd.get_dummies(book_data,columns=['genre'])"
   ]
  },
  {
   "cell_type": "code",
   "execution_count": 13,
   "metadata": {},
   "outputs": [
    {
     "output_type": "execute_result",
     "data": {
      "text/plain": [
       "   book_id                       book_name  ratings  year  \\\n",
       "0      620                     Animal Farm      2.1  1838   \n",
       "1      843              A Clockwork Orange      3.9  1810   \n",
       "2      986                      The Plague      2.2  1931   \n",
       "3     2080            A Fire Upon the Deep      3.8  1965   \n",
       "4     2152  All Quiet on the Western Front      2.7  1988   \n",
       "\n",
       "   genre_\"Childrens literature\"  genre_Absurdist fiction  genre_Adventure  \\\n",
       "0                             0                        0                0   \n",
       "1                             0                        0                0   \n",
       "2                             0                        0                0   \n",
       "3                             0                        0                0   \n",
       "4                             0                        0                0   \n",
       "\n",
       "   genre_Adventure novel  genre_Albino bias  genre_Alien invasion  ...  \\\n",
       "0                      0                  0                     0  ...   \n",
       "1                      0                  0                     0  ...   \n",
       "2                      0                  0                     0  ...   \n",
       "3                      0                  0                     0  ...   \n",
       "4                      0                  0                     0  ...   \n",
       "\n",
       "   genre_Urban fantasy  genre_Urban fiction  \\\n",
       "0                    0                    0   \n",
       "1                    0                    0   \n",
       "2                    0                    0   \n",
       "3                    0                    0   \n",
       "4                    0                    0   \n",
       "\n",
       "   genre_Utopian and dystopian fiction  genre_Utopian fiction  \\\n",
       "0                                    0                      0   \n",
       "1                                    0                      0   \n",
       "2                                    0                      0   \n",
       "3                                    0                      0   \n",
       "4                                    0                      0   \n",
       "\n",
       "   genre_Vampire fiction  genre_War novel  genre_Western  \\\n",
       "0                      0                0              0   \n",
       "1                      0                0              0   \n",
       "2                      0                0              0   \n",
       "3                      0                0              0   \n",
       "4                      0                1              0   \n",
       "\n",
       "   genre_Western fiction  genre_Wuxia  genre_Young adult literature  \n",
       "0                      0            0                             0  \n",
       "1                      0            0                             0  \n",
       "2                      0            0                             0  \n",
       "3                      0            0                             0  \n",
       "4                      0            0                             0  \n",
       "\n",
       "[5 rows x 183 columns]"
      ],
      "text/html": "<div>\n<style scoped>\n    .dataframe tbody tr th:only-of-type {\n        vertical-align: middle;\n    }\n\n    .dataframe tbody tr th {\n        vertical-align: top;\n    }\n\n    .dataframe thead th {\n        text-align: right;\n    }\n</style>\n<table border=\"1\" class=\"dataframe\">\n  <thead>\n    <tr style=\"text-align: right;\">\n      <th></th>\n      <th>book_id</th>\n      <th>book_name</th>\n      <th>ratings</th>\n      <th>year</th>\n      <th>genre_\"Childrens literature\"</th>\n      <th>genre_Absurdist fiction</th>\n      <th>genre_Adventure</th>\n      <th>genre_Adventure novel</th>\n      <th>genre_Albino bias</th>\n      <th>genre_Alien invasion</th>\n      <th>...</th>\n      <th>genre_Urban fantasy</th>\n      <th>genre_Urban fiction</th>\n      <th>genre_Utopian and dystopian fiction</th>\n      <th>genre_Utopian fiction</th>\n      <th>genre_Vampire fiction</th>\n      <th>genre_War novel</th>\n      <th>genre_Western</th>\n      <th>genre_Western fiction</th>\n      <th>genre_Wuxia</th>\n      <th>genre_Young adult literature</th>\n    </tr>\n  </thead>\n  <tbody>\n    <tr>\n      <th>0</th>\n      <td>620</td>\n      <td>Animal Farm</td>\n      <td>2.1</td>\n      <td>1838</td>\n      <td>0</td>\n      <td>0</td>\n      <td>0</td>\n      <td>0</td>\n      <td>0</td>\n      <td>0</td>\n      <td>...</td>\n      <td>0</td>\n      <td>0</td>\n      <td>0</td>\n      <td>0</td>\n      <td>0</td>\n      <td>0</td>\n      <td>0</td>\n      <td>0</td>\n      <td>0</td>\n      <td>0</td>\n    </tr>\n    <tr>\n      <th>1</th>\n      <td>843</td>\n      <td>A Clockwork Orange</td>\n      <td>3.9</td>\n      <td>1810</td>\n      <td>0</td>\n      <td>0</td>\n      <td>0</td>\n      <td>0</td>\n      <td>0</td>\n      <td>0</td>\n      <td>...</td>\n      <td>0</td>\n      <td>0</td>\n      <td>0</td>\n      <td>0</td>\n      <td>0</td>\n      <td>0</td>\n      <td>0</td>\n      <td>0</td>\n      <td>0</td>\n      <td>0</td>\n    </tr>\n    <tr>\n      <th>2</th>\n      <td>986</td>\n      <td>The Plague</td>\n      <td>2.2</td>\n      <td>1931</td>\n      <td>0</td>\n      <td>0</td>\n      <td>0</td>\n      <td>0</td>\n      <td>0</td>\n      <td>0</td>\n      <td>...</td>\n      <td>0</td>\n      <td>0</td>\n      <td>0</td>\n      <td>0</td>\n      <td>0</td>\n      <td>0</td>\n      <td>0</td>\n      <td>0</td>\n      <td>0</td>\n      <td>0</td>\n    </tr>\n    <tr>\n      <th>3</th>\n      <td>2080</td>\n      <td>A Fire Upon the Deep</td>\n      <td>3.8</td>\n      <td>1965</td>\n      <td>0</td>\n      <td>0</td>\n      <td>0</td>\n      <td>0</td>\n      <td>0</td>\n      <td>0</td>\n      <td>...</td>\n      <td>0</td>\n      <td>0</td>\n      <td>0</td>\n      <td>0</td>\n      <td>0</td>\n      <td>0</td>\n      <td>0</td>\n      <td>0</td>\n      <td>0</td>\n      <td>0</td>\n    </tr>\n    <tr>\n      <th>4</th>\n      <td>2152</td>\n      <td>All Quiet on the Western Front</td>\n      <td>2.7</td>\n      <td>1988</td>\n      <td>0</td>\n      <td>0</td>\n      <td>0</td>\n      <td>0</td>\n      <td>0</td>\n      <td>0</td>\n      <td>...</td>\n      <td>0</td>\n      <td>0</td>\n      <td>0</td>\n      <td>0</td>\n      <td>0</td>\n      <td>1</td>\n      <td>0</td>\n      <td>0</td>\n      <td>0</td>\n      <td>0</td>\n    </tr>\n  </tbody>\n</table>\n<p>5 rows × 183 columns</p>\n</div>"
     },
     "metadata": {},
     "execution_count": 13
    }
   ],
   "source": [
    "book_data.head()"
   ]
  },
  {
   "cell_type": "code",
   "execution_count": 14,
   "metadata": {},
   "outputs": [
    {
     "output_type": "execute_result",
     "data": {
      "text/plain": [
       "(12841, 183)"
      ]
     },
     "metadata": {},
     "execution_count": 14
    }
   ],
   "source": [
    "book_data.shape"
   ]
  },
  {
   "cell_type": "code",
   "execution_count": 15,
   "metadata": {},
   "outputs": [],
   "source": [
    "book_data.drop('ratings',axis='columns',inplace=True)"
   ]
  },
  {
   "cell_type": "code",
   "execution_count": 16,
   "metadata": {},
   "outputs": [
    {
     "output_type": "execute_result",
     "data": {
      "text/plain": [
       "book_id                                 620\n",
       "book_name                       Animal Farm\n",
       "year                                   1838\n",
       "genre_\"Childrens literature\"              0\n",
       "genre_Absurdist fiction                   0\n",
       "                                   ...     \n",
       "genre_War novel                           0\n",
       "genre_Western                             0\n",
       "genre_Western fiction                     0\n",
       "genre_Wuxia                               0\n",
       "genre_Young adult literature              0\n",
       "Name: 0, Length: 182, dtype: object"
      ]
     },
     "metadata": {},
     "execution_count": 16
    }
   ],
   "source": [
    "book_data.loc[0]"
   ]
  },
  {
   "cell_type": "code",
   "execution_count": 17,
   "metadata": {},
   "outputs": [
    {
     "output_type": "execute_result",
     "data": {
      "text/plain": [
       "book_id                         0\n",
       "book_name                       0\n",
       "year                            0\n",
       "genre_\"Childrens literature\"    0\n",
       "genre_Absurdist fiction         0\n",
       "                               ..\n",
       "genre_War novel                 0\n",
       "genre_Western                   0\n",
       "genre_Western fiction           0\n",
       "genre_Wuxia                     0\n",
       "genre_Young adult literature    0\n",
       "Length: 182, dtype: int64"
      ]
     },
     "metadata": {},
     "execution_count": 17
    }
   ],
   "source": [
    "book_data.isnull().sum()"
   ]
  },
  {
   "source": [
    "UserDATA"
   ],
   "cell_type": "markdown",
   "metadata": {}
  },
  {
   "cell_type": "code",
   "execution_count": 18,
   "metadata": {},
   "outputs": [
    {
     "output_type": "execute_result",
     "data": {
      "text/plain": [
       "(278858, 3)"
      ]
     },
     "metadata": {},
     "execution_count": 18
    }
   ],
   "source": [
    "user_data.shape"
   ]
  },
  {
   "cell_type": "code",
   "execution_count": 19,
   "metadata": {},
   "outputs": [
    {
     "output_type": "execute_result",
     "data": {
      "text/plain": [
       "   User-ID                            Location   Age\n",
       "0        1                  nyc, new york, usa   NaN\n",
       "1        2           stockton, california, usa  18.0\n",
       "2        3     moscow, yukon territory, russia   NaN\n",
       "3        4           porto, v.n.gaia, portugal  17.0\n",
       "4        5  farnborough, hants, united kingdom   NaN"
      ],
      "text/html": "<div>\n<style scoped>\n    .dataframe tbody tr th:only-of-type {\n        vertical-align: middle;\n    }\n\n    .dataframe tbody tr th {\n        vertical-align: top;\n    }\n\n    .dataframe thead th {\n        text-align: right;\n    }\n</style>\n<table border=\"1\" class=\"dataframe\">\n  <thead>\n    <tr style=\"text-align: right;\">\n      <th></th>\n      <th>User-ID</th>\n      <th>Location</th>\n      <th>Age</th>\n    </tr>\n  </thead>\n  <tbody>\n    <tr>\n      <th>0</th>\n      <td>1</td>\n      <td>nyc, new york, usa</td>\n      <td>NaN</td>\n    </tr>\n    <tr>\n      <th>1</th>\n      <td>2</td>\n      <td>stockton, california, usa</td>\n      <td>18.0</td>\n    </tr>\n    <tr>\n      <th>2</th>\n      <td>3</td>\n      <td>moscow, yukon territory, russia</td>\n      <td>NaN</td>\n    </tr>\n    <tr>\n      <th>3</th>\n      <td>4</td>\n      <td>porto, v.n.gaia, portugal</td>\n      <td>17.0</td>\n    </tr>\n    <tr>\n      <th>4</th>\n      <td>5</td>\n      <td>farnborough, hants, united kingdom</td>\n      <td>NaN</td>\n    </tr>\n  </tbody>\n</table>\n</div>"
     },
     "metadata": {},
     "execution_count": 19
    }
   ],
   "source": [
    "user_data.head()"
   ]
  },
  {
   "cell_type": "code",
   "execution_count": 20,
   "metadata": {},
   "outputs": [
    {
     "output_type": "execute_result",
     "data": {
      "text/plain": [
       "array([     1,      2,      3, ..., 278856, 278857, 278858], dtype=int64)"
      ]
     },
     "metadata": {},
     "execution_count": 20
    }
   ],
   "source": [
    "user_data['User-ID'].unique()"
   ]
  },
  {
   "cell_type": "code",
   "execution_count": 21,
   "metadata": {},
   "outputs": [
    {
     "output_type": "execute_result",
     "data": {
      "text/plain": [
       "array([ nan,  18.,  17.,  61.,  26.,  14.,  25.,  19.,  46.,  55.,  32.,\n",
       "        24.,  20.,  34.,  23.,  51.,  31.,  21.,  44.,  30.,  57.,  43.,\n",
       "        37.,  41.,  54.,  42.,  50.,  39.,  53.,  47.,  36.,  28.,  35.,\n",
       "        13.,  58.,  49.,  38.,  45.,  62.,  63.,  27.,  33.,  29.,  66.,\n",
       "        40.,  15.,  60.,   0.,  79.,  22.,  16.,  65.,  59.,  48.,  72.,\n",
       "        56.,  67.,   1.,  80.,  52.,  69.,  71.,  73.,  78.,   9.,  64.,\n",
       "       103., 104.,  12.,  74.,  75., 231.,   3.,  76.,  83.,  68., 119.,\n",
       "        11.,  77.,   2.,  70.,  93.,   8.,   7.,   4.,  81., 114., 230.,\n",
       "       239.,  10.,   5., 148., 151.,   6., 101., 201.,  96.,  84.,  82.,\n",
       "        90., 123., 244., 133.,  91., 128.,  94.,  85., 141., 110.,  97.,\n",
       "       219.,  86., 124.,  92., 175., 172., 209., 212., 237.,  87., 162.,\n",
       "       100., 156., 136.,  95.,  89., 106.,  99., 108., 210.,  88., 199.,\n",
       "       147., 168., 132., 159., 186., 152., 102., 116., 200., 115., 226.,\n",
       "       137., 207., 229., 138., 109., 105., 228., 183., 204.,  98., 223.,\n",
       "       113., 208., 107., 157., 111., 146., 118., 220., 143., 140., 189.,\n",
       "       127.])"
      ]
     },
     "metadata": {},
     "execution_count": 21
    }
   ],
   "source": [
    "user_data['Age'].unique()"
   ]
  },
  {
   "cell_type": "code",
   "execution_count": 22,
   "metadata": {},
   "outputs": [
    {
     "output_type": "execute_result",
     "data": {
      "text/plain": [
       "array([34, 18, 17, 61, 26, 14, 25, 19, 46, 55, 32, 24, 20, 23, 51, 31, 21,\n",
       "       44, 30, 57, 43, 37, 41, 54, 42, 50, 39, 53, 47, 36, 28, 35, 13, 58,\n",
       "       49, 38, 45, 62, 63, 27, 33, 29, 66, 40, 15, 60, 79, 22, 16, 65, 59,\n",
       "       48, 72, 56, 67, 80, 52, 69, 71, 73, 78,  9, 64, 12, 74, 75, 76, 83,\n",
       "       68, 11, 77, 70,  8,  7, 81, 10,  5,  6, 84, 82, 90, 85, 86, 87, 89,\n",
       "       88], dtype=int64)"
      ]
     },
     "metadata": {},
     "execution_count": 22
    }
   ],
   "source": [
    "user_data.loc[(user_data['Age'] > 90) | (user_data['Age'] < 5)] = np.nan\n",
    "user_data['Age'].fillna((user_data['Age'].mean()), inplace=True)\n",
    "user_data['Age']= user_data['Age'].astype('int64')\n",
    "user_data['Age'].unique()"
   ]
  },
  {
   "cell_type": "code",
   "execution_count": 23,
   "metadata": {},
   "outputs": [
    {
     "output_type": "execute_result",
     "data": {
      "text/plain": [
       "   Unnamed: 0  User_ID   book_id  Book_Rating\n",
       "0           0   276725  26895596          2.4\n",
       "1           1   276726  23266533          4.9\n",
       "2           2   276727    386568          3.4\n",
       "3           3   276729   1133955          3.4\n",
       "4           4   276729  11389275          2.6"
      ],
      "text/html": "<div>\n<style scoped>\n    .dataframe tbody tr th:only-of-type {\n        vertical-align: middle;\n    }\n\n    .dataframe tbody tr th {\n        vertical-align: top;\n    }\n\n    .dataframe thead th {\n        text-align: right;\n    }\n</style>\n<table border=\"1\" class=\"dataframe\">\n  <thead>\n    <tr style=\"text-align: right;\">\n      <th></th>\n      <th>Unnamed: 0</th>\n      <th>User_ID</th>\n      <th>book_id</th>\n      <th>Book_Rating</th>\n    </tr>\n  </thead>\n  <tbody>\n    <tr>\n      <th>0</th>\n      <td>0</td>\n      <td>276725</td>\n      <td>26895596</td>\n      <td>2.4</td>\n    </tr>\n    <tr>\n      <th>1</th>\n      <td>1</td>\n      <td>276726</td>\n      <td>23266533</td>\n      <td>4.9</td>\n    </tr>\n    <tr>\n      <th>2</th>\n      <td>2</td>\n      <td>276727</td>\n      <td>386568</td>\n      <td>3.4</td>\n    </tr>\n    <tr>\n      <th>3</th>\n      <td>3</td>\n      <td>276729</td>\n      <td>1133955</td>\n      <td>3.4</td>\n    </tr>\n    <tr>\n      <th>4</th>\n      <td>4</td>\n      <td>276729</td>\n      <td>11389275</td>\n      <td>2.6</td>\n    </tr>\n  </tbody>\n</table>\n</div>"
     },
     "metadata": {},
     "execution_count": 23
    }
   ],
   "source": [
    "rating_data.head()"
   ]
  },
  {
   "cell_type": "code",
   "execution_count": 24,
   "metadata": {},
   "outputs": [],
   "source": [
    "rating_data.drop('Unnamed: 0',axis='columns',inplace=True)"
   ]
  },
  {
   "cell_type": "code",
   "execution_count": 25,
   "metadata": {},
   "outputs": [
    {
     "output_type": "execute_result",
     "data": {
      "text/plain": [
       "   User_ID   book_id  Book_Rating\n",
       "0   276725  26895596          2.4\n",
       "1   276726  23266533          4.9\n",
       "2   276727    386568          3.4\n",
       "3   276729   1133955          3.4\n",
       "4   276729  11389275          2.6"
      ],
      "text/html": "<div>\n<style scoped>\n    .dataframe tbody tr th:only-of-type {\n        vertical-align: middle;\n    }\n\n    .dataframe tbody tr th {\n        vertical-align: top;\n    }\n\n    .dataframe thead th {\n        text-align: right;\n    }\n</style>\n<table border=\"1\" class=\"dataframe\">\n  <thead>\n    <tr style=\"text-align: right;\">\n      <th></th>\n      <th>User_ID</th>\n      <th>book_id</th>\n      <th>Book_Rating</th>\n    </tr>\n  </thead>\n  <tbody>\n    <tr>\n      <th>0</th>\n      <td>276725</td>\n      <td>26895596</td>\n      <td>2.4</td>\n    </tr>\n    <tr>\n      <th>1</th>\n      <td>276726</td>\n      <td>23266533</td>\n      <td>4.9</td>\n    </tr>\n    <tr>\n      <th>2</th>\n      <td>276727</td>\n      <td>386568</td>\n      <td>3.4</td>\n    </tr>\n    <tr>\n      <th>3</th>\n      <td>276729</td>\n      <td>1133955</td>\n      <td>3.4</td>\n    </tr>\n    <tr>\n      <th>4</th>\n      <td>276729</td>\n      <td>11389275</td>\n      <td>2.6</td>\n    </tr>\n  </tbody>\n</table>\n</div>"
     },
     "metadata": {},
     "execution_count": 25
    }
   ],
   "source": [
    "rating_data.head()"
   ]
  },
  {
   "cell_type": "code",
   "execution_count": 26,
   "metadata": {},
   "outputs": [],
   "source": [
    "unique_ratings = rating_data[rating_data.book_id.isin(book_data.book_id)]"
   ]
  },
  {
   "cell_type": "code",
   "execution_count": 27,
   "metadata": {},
   "outputs": [],
   "source": [
    "rating_data = rating_data[rating_data.User_ID.isin(user_data['User-ID'])]"
   ]
  },
  {
   "cell_type": "code",
   "execution_count": 28,
   "metadata": {},
   "outputs": [
    {
     "output_type": "execute_result",
     "data": {
      "text/plain": [
       "(1142978, 3)"
      ]
     },
     "metadata": {},
     "execution_count": 28
    }
   ],
   "source": [
    "rating_data.shape"
   ]
  },
  {
   "cell_type": "code",
   "execution_count": 29,
   "metadata": {},
   "outputs": [
    {
     "output_type": "execute_result",
     "data": {
      "text/plain": [
       "(1149780, 3)"
      ]
     },
     "metadata": {},
     "execution_count": 29
    }
   ],
   "source": [
    "unique_ratings.shape"
   ]
  },
  {
   "cell_type": "code",
   "execution_count": 30,
   "metadata": {},
   "outputs": [
    {
     "output_type": "execute_result",
     "data": {
      "text/plain": [
       "(12841, 182)"
      ]
     },
     "metadata": {},
     "execution_count": 30
    }
   ],
   "source": [
    "book_data.shape"
   ]
  },
  {
   "cell_type": "code",
   "execution_count": 31,
   "metadata": {},
   "outputs": [
    {
     "output_type": "execute_result",
     "data": {
      "text/plain": [
       "(278858, 3)"
      ]
     },
     "metadata": {},
     "execution_count": 31
    }
   ],
   "source": [
    "user_data.shape"
   ]
  },
  {
   "cell_type": "code",
   "execution_count": 32,
   "metadata": {},
   "outputs": [
    {
     "output_type": "execute_result",
     "data": {
      "text/plain": [
       "array([2.4, 4.9, 3.4, 2.6, 3.1, 3.8, 2.1, 4.1, 4.3, 4.5, 2.7, 3.5, 3.9,\n",
       "       2.9, 4.7, 4.6, 2. , 2.8, 3.6, 3.7, 2.3, 4.8, 3.2, 3. , 4.2, 2.5,\n",
       "       4.4, 3.3, 4. , 2.2, 5. ])"
      ]
     },
     "metadata": {},
     "execution_count": 32
    }
   ],
   "source": [
    "unique_ratings['Book_Rating'].unique()"
   ]
  },
  {
   "source": [
    "### Popularity Based Recommendation i.e All Time Favourite"
   ],
   "cell_type": "markdown",
   "metadata": {}
  },
  {
   "cell_type": "code",
   "execution_count": 33,
   "metadata": {},
   "outputs": [
    {
     "output_type": "execute_result",
     "data": {
      "text/plain": [
       "   book_id    book_name  year  genre_\"Childrens literature\"  \\\n",
       "0      620  Animal Farm  1838                             0   \n",
       "1      620  Animal Farm  1838                             0   \n",
       "2      620  Animal Farm  1838                             0   \n",
       "3      620  Animal Farm  1838                             0   \n",
       "4      620  Animal Farm  1838                             0   \n",
       "\n",
       "   genre_Absurdist fiction  genre_Adventure  genre_Adventure novel  \\\n",
       "0                        0                0                      0   \n",
       "1                        0                0                      0   \n",
       "2                        0                0                      0   \n",
       "3                        0                0                      0   \n",
       "4                        0                0                      0   \n",
       "\n",
       "   genre_Albino bias  genre_Alien invasion  genre_Alternate history  ...  \\\n",
       "0                  0                     0                        0  ...   \n",
       "1                  0                     0                        0  ...   \n",
       "2                  0                     0                        0  ...   \n",
       "3                  0                     0                        0  ...   \n",
       "4                  0                     0                        0  ...   \n",
       "\n",
       "   genre_Utopian and dystopian fiction  genre_Utopian fiction  \\\n",
       "0                                    0                      0   \n",
       "1                                    0                      0   \n",
       "2                                    0                      0   \n",
       "3                                    0                      0   \n",
       "4                                    0                      0   \n",
       "\n",
       "   genre_Vampire fiction  genre_War novel  genre_Western  \\\n",
       "0                      0                0              0   \n",
       "1                      0                0              0   \n",
       "2                      0                0              0   \n",
       "3                      0                0              0   \n",
       "4                      0                0              0   \n",
       "\n",
       "   genre_Western fiction  genre_Wuxia  genre_Young adult literature  User_ID  \\\n",
       "0                      0            0                             0   278488   \n",
       "1                      0            0                             0    11676   \n",
       "2                      0            0                             0    19233   \n",
       "3                      0            0                             0    19969   \n",
       "4                      0            0                             0    23768   \n",
       "\n",
       "   Book_Rating  \n",
       "0          4.1  \n",
       "1          2.9  \n",
       "2          3.4  \n",
       "3          4.7  \n",
       "4          4.8  \n",
       "\n",
       "[5 rows x 184 columns]"
      ],
      "text/html": "<div>\n<style scoped>\n    .dataframe tbody tr th:only-of-type {\n        vertical-align: middle;\n    }\n\n    .dataframe tbody tr th {\n        vertical-align: top;\n    }\n\n    .dataframe thead th {\n        text-align: right;\n    }\n</style>\n<table border=\"1\" class=\"dataframe\">\n  <thead>\n    <tr style=\"text-align: right;\">\n      <th></th>\n      <th>book_id</th>\n      <th>book_name</th>\n      <th>year</th>\n      <th>genre_\"Childrens literature\"</th>\n      <th>genre_Absurdist fiction</th>\n      <th>genre_Adventure</th>\n      <th>genre_Adventure novel</th>\n      <th>genre_Albino bias</th>\n      <th>genre_Alien invasion</th>\n      <th>genre_Alternate history</th>\n      <th>...</th>\n      <th>genre_Utopian and dystopian fiction</th>\n      <th>genre_Utopian fiction</th>\n      <th>genre_Vampire fiction</th>\n      <th>genre_War novel</th>\n      <th>genre_Western</th>\n      <th>genre_Western fiction</th>\n      <th>genre_Wuxia</th>\n      <th>genre_Young adult literature</th>\n      <th>User_ID</th>\n      <th>Book_Rating</th>\n    </tr>\n  </thead>\n  <tbody>\n    <tr>\n      <th>0</th>\n      <td>620</td>\n      <td>Animal Farm</td>\n      <td>1838</td>\n      <td>0</td>\n      <td>0</td>\n      <td>0</td>\n      <td>0</td>\n      <td>0</td>\n      <td>0</td>\n      <td>0</td>\n      <td>...</td>\n      <td>0</td>\n      <td>0</td>\n      <td>0</td>\n      <td>0</td>\n      <td>0</td>\n      <td>0</td>\n      <td>0</td>\n      <td>0</td>\n      <td>278488</td>\n      <td>4.1</td>\n    </tr>\n    <tr>\n      <th>1</th>\n      <td>620</td>\n      <td>Animal Farm</td>\n      <td>1838</td>\n      <td>0</td>\n      <td>0</td>\n      <td>0</td>\n      <td>0</td>\n      <td>0</td>\n      <td>0</td>\n      <td>0</td>\n      <td>...</td>\n      <td>0</td>\n      <td>0</td>\n      <td>0</td>\n      <td>0</td>\n      <td>0</td>\n      <td>0</td>\n      <td>0</td>\n      <td>0</td>\n      <td>11676</td>\n      <td>2.9</td>\n    </tr>\n    <tr>\n      <th>2</th>\n      <td>620</td>\n      <td>Animal Farm</td>\n      <td>1838</td>\n      <td>0</td>\n      <td>0</td>\n      <td>0</td>\n      <td>0</td>\n      <td>0</td>\n      <td>0</td>\n      <td>0</td>\n      <td>...</td>\n      <td>0</td>\n      <td>0</td>\n      <td>0</td>\n      <td>0</td>\n      <td>0</td>\n      <td>0</td>\n      <td>0</td>\n      <td>0</td>\n      <td>19233</td>\n      <td>3.4</td>\n    </tr>\n    <tr>\n      <th>3</th>\n      <td>620</td>\n      <td>Animal Farm</td>\n      <td>1838</td>\n      <td>0</td>\n      <td>0</td>\n      <td>0</td>\n      <td>0</td>\n      <td>0</td>\n      <td>0</td>\n      <td>0</td>\n      <td>...</td>\n      <td>0</td>\n      <td>0</td>\n      <td>0</td>\n      <td>0</td>\n      <td>0</td>\n      <td>0</td>\n      <td>0</td>\n      <td>0</td>\n      <td>19969</td>\n      <td>4.7</td>\n    </tr>\n    <tr>\n      <th>4</th>\n      <td>620</td>\n      <td>Animal Farm</td>\n      <td>1838</td>\n      <td>0</td>\n      <td>0</td>\n      <td>0</td>\n      <td>0</td>\n      <td>0</td>\n      <td>0</td>\n      <td>0</td>\n      <td>...</td>\n      <td>0</td>\n      <td>0</td>\n      <td>0</td>\n      <td>0</td>\n      <td>0</td>\n      <td>0</td>\n      <td>0</td>\n      <td>0</td>\n      <td>23768</td>\n      <td>4.8</td>\n    </tr>\n  </tbody>\n</table>\n<p>5 rows × 184 columns</p>\n</div>"
     },
     "metadata": {},
     "execution_count": 33
    }
   ],
   "source": [
    "new_book_dataset = pd.merge(book_data,rating_data,on='book_id')\n",
    "new_book_dataset.head()"
   ]
  },
  {
   "cell_type": "code",
   "execution_count": 34,
   "metadata": {},
   "outputs": [
    {
     "output_type": "execute_result",
     "data": {
      "text/plain": [
       "(1142978, 184)"
      ]
     },
     "metadata": {},
     "execution_count": 34
    }
   ],
   "source": [
    "new_book_dataset.shape"
   ]
  },
  {
   "cell_type": "code",
   "execution_count": 35,
   "metadata": {},
   "outputs": [
    {
     "output_type": "execute_result",
     "data": {
      "text/plain": [
       "12637"
      ]
     },
     "metadata": {},
     "execution_count": 35
    }
   ],
   "source": [
    "new_book_dataset.book_name.nunique()"
   ]
  },
  {
   "cell_type": "code",
   "execution_count": 36,
   "metadata": {},
   "outputs": [
    {
     "output_type": "stream",
     "name": "stdout",
     "text": [
      "The top ten books : \n"
     ]
    },
    {
     "output_type": "execute_result",
     "data": {
      "text/plain": [
       "               Book_Rating\n",
       "book_name                 \n",
       "Inferno                379\n",
       "Haunted                360\n",
       "Nemesis                315\n",
       "The Return             294\n",
       "Outcast                291\n",
       "Passage                285\n",
       "Betrayal               279\n",
       "Exodus                 273\n",
       "The Keep               270\n",
       "Storm Warning          261"
      ],
      "text/html": "<div>\n<style scoped>\n    .dataframe tbody tr th:only-of-type {\n        vertical-align: middle;\n    }\n\n    .dataframe tbody tr th {\n        vertical-align: top;\n    }\n\n    .dataframe thead th {\n        text-align: right;\n    }\n</style>\n<table border=\"1\" class=\"dataframe\">\n  <thead>\n    <tr style=\"text-align: right;\">\n      <th></th>\n      <th>Book_Rating</th>\n    </tr>\n    <tr>\n      <th>book_name</th>\n      <th></th>\n    </tr>\n  </thead>\n  <tbody>\n    <tr>\n      <th>Inferno</th>\n      <td>379</td>\n    </tr>\n    <tr>\n      <th>Haunted</th>\n      <td>360</td>\n    </tr>\n    <tr>\n      <th>Nemesis</th>\n      <td>315</td>\n    </tr>\n    <tr>\n      <th>The Return</th>\n      <td>294</td>\n    </tr>\n    <tr>\n      <th>Outcast</th>\n      <td>291</td>\n    </tr>\n    <tr>\n      <th>Passage</th>\n      <td>285</td>\n    </tr>\n    <tr>\n      <th>Betrayal</th>\n      <td>279</td>\n    </tr>\n    <tr>\n      <th>Exodus</th>\n      <td>273</td>\n    </tr>\n    <tr>\n      <th>The Keep</th>\n      <td>270</td>\n    </tr>\n    <tr>\n      <th>Storm Warning</th>\n      <td>261</td>\n    </tr>\n  </tbody>\n</table>\n</div>"
     },
     "metadata": {},
     "execution_count": 36
    }
   ],
   "source": [
    "top_ten_books = pd.DataFrame(new_book_dataset.groupby('book_name')['Book_Rating'].count().sort_values(ascending = False).head(10))\n",
    "\n",
    "print('The top ten books : ')\n",
    "top_ten_books"
   ]
  },
  {
   "source": [
    "## Memory-Based Collaborating Filtering"
   ],
   "cell_type": "markdown",
   "metadata": {}
  },
  {
   "source": [
    "user-itme filetering\n",
    "item-item filtering"
   ],
   "cell_type": "markdown",
   "metadata": {}
  },
  {
   "source": [
    "### Train-Test Split"
   ],
   "cell_type": "markdown",
   "metadata": {}
  },
  {
   "cell_type": "code",
   "execution_count": 37,
   "metadata": {},
   "outputs": [],
   "source": [
    "from sklearn import model_selection\n",
    "train_data, test_data = model_selection.train_test_split(new_book_dataset,test_size=0.20)"
   ]
  },
  {
   "cell_type": "code",
   "execution_count": 38,
   "metadata": {},
   "outputs": [
    {
     "output_type": "execute_result",
     "data": {
      "text/plain": [
       "         book_id               book_name  year  genre_\"Childrens literature\"  \\\n",
       "20789      70206  Picnic at Hanging Rock  1927                             0   \n",
       "283573   2596784           Heat and Dust  2008                             1   \n",
       "966180  20601611     Just Call Me Stupid  2000                             1   \n",
       "853386  15308087          Umrao Jaan Ada  1990                             0   \n",
       "113206    722312           Women in Love  1889                             0   \n",
       "\n",
       "        genre_Absurdist fiction  genre_Adventure  genre_Adventure novel  \\\n",
       "20789                         0                0                      0   \n",
       "283573                        0                0                      0   \n",
       "966180                        0                0                      0   \n",
       "853386                        0                0                      0   \n",
       "113206                        0                0                      0   \n",
       "\n",
       "        genre_Albino bias  genre_Alien invasion  genre_Alternate history  ...  \\\n",
       "20789                   0                     0                        0  ...   \n",
       "283573                  0                     0                        0  ...   \n",
       "966180                  0                     0                        0  ...   \n",
       "853386                  0                     0                        0  ...   \n",
       "113206                  0                     0                        0  ...   \n",
       "\n",
       "        genre_Utopian and dystopian fiction  genre_Utopian fiction  \\\n",
       "20789                                     0                      0   \n",
       "283573                                    0                      0   \n",
       "966180                                    0                      0   \n",
       "853386                                    0                      0   \n",
       "113206                                    0                      0   \n",
       "\n",
       "        genre_Vampire fiction  genre_War novel  genre_Western  \\\n",
       "20789                       0                0              0   \n",
       "283573                      0                0              0   \n",
       "966180                      0                0              0   \n",
       "853386                      0                0              0   \n",
       "113206                      0                0              0   \n",
       "\n",
       "        genre_Western fiction  genre_Wuxia  genre_Young adult literature  \\\n",
       "20789                       0            0                             0   \n",
       "283573                      0            0                             0   \n",
       "966180                      0            0                             0   \n",
       "853386                      0            0                             0   \n",
       "113206                      0            0                             0   \n",
       "\n",
       "        User_ID  Book_Rating  \n",
       "20789    249894          4.2  \n",
       "283573   123501          2.9  \n",
       "966180   227705          2.6  \n",
       "853386   209985          4.4  \n",
       "113206   107301          4.1  \n",
       "\n",
       "[5 rows x 184 columns]"
      ],
      "text/html": "<div>\n<style scoped>\n    .dataframe tbody tr th:only-of-type {\n        vertical-align: middle;\n    }\n\n    .dataframe tbody tr th {\n        vertical-align: top;\n    }\n\n    .dataframe thead th {\n        text-align: right;\n    }\n</style>\n<table border=\"1\" class=\"dataframe\">\n  <thead>\n    <tr style=\"text-align: right;\">\n      <th></th>\n      <th>book_id</th>\n      <th>book_name</th>\n      <th>year</th>\n      <th>genre_\"Childrens literature\"</th>\n      <th>genre_Absurdist fiction</th>\n      <th>genre_Adventure</th>\n      <th>genre_Adventure novel</th>\n      <th>genre_Albino bias</th>\n      <th>genre_Alien invasion</th>\n      <th>genre_Alternate history</th>\n      <th>...</th>\n      <th>genre_Utopian and dystopian fiction</th>\n      <th>genre_Utopian fiction</th>\n      <th>genre_Vampire fiction</th>\n      <th>genre_War novel</th>\n      <th>genre_Western</th>\n      <th>genre_Western fiction</th>\n      <th>genre_Wuxia</th>\n      <th>genre_Young adult literature</th>\n      <th>User_ID</th>\n      <th>Book_Rating</th>\n    </tr>\n  </thead>\n  <tbody>\n    <tr>\n      <th>20789</th>\n      <td>70206</td>\n      <td>Picnic at Hanging Rock</td>\n      <td>1927</td>\n      <td>0</td>\n      <td>0</td>\n      <td>0</td>\n      <td>0</td>\n      <td>0</td>\n      <td>0</td>\n      <td>0</td>\n      <td>...</td>\n      <td>0</td>\n      <td>0</td>\n      <td>0</td>\n      <td>0</td>\n      <td>0</td>\n      <td>0</td>\n      <td>0</td>\n      <td>0</td>\n      <td>249894</td>\n      <td>4.2</td>\n    </tr>\n    <tr>\n      <th>283573</th>\n      <td>2596784</td>\n      <td>Heat and Dust</td>\n      <td>2008</td>\n      <td>1</td>\n      <td>0</td>\n      <td>0</td>\n      <td>0</td>\n      <td>0</td>\n      <td>0</td>\n      <td>0</td>\n      <td>...</td>\n      <td>0</td>\n      <td>0</td>\n      <td>0</td>\n      <td>0</td>\n      <td>0</td>\n      <td>0</td>\n      <td>0</td>\n      <td>0</td>\n      <td>123501</td>\n      <td>2.9</td>\n    </tr>\n    <tr>\n      <th>966180</th>\n      <td>20601611</td>\n      <td>Just Call Me Stupid</td>\n      <td>2000</td>\n      <td>1</td>\n      <td>0</td>\n      <td>0</td>\n      <td>0</td>\n      <td>0</td>\n      <td>0</td>\n      <td>0</td>\n      <td>...</td>\n      <td>0</td>\n      <td>0</td>\n      <td>0</td>\n      <td>0</td>\n      <td>0</td>\n      <td>0</td>\n      <td>0</td>\n      <td>0</td>\n      <td>227705</td>\n      <td>2.6</td>\n    </tr>\n    <tr>\n      <th>853386</th>\n      <td>15308087</td>\n      <td>Umrao Jaan Ada</td>\n      <td>1990</td>\n      <td>0</td>\n      <td>0</td>\n      <td>0</td>\n      <td>0</td>\n      <td>0</td>\n      <td>0</td>\n      <td>0</td>\n      <td>...</td>\n      <td>0</td>\n      <td>0</td>\n      <td>0</td>\n      <td>0</td>\n      <td>0</td>\n      <td>0</td>\n      <td>0</td>\n      <td>0</td>\n      <td>209985</td>\n      <td>4.4</td>\n    </tr>\n    <tr>\n      <th>113206</th>\n      <td>722312</td>\n      <td>Women in Love</td>\n      <td>1889</td>\n      <td>0</td>\n      <td>0</td>\n      <td>0</td>\n      <td>0</td>\n      <td>0</td>\n      <td>0</td>\n      <td>0</td>\n      <td>...</td>\n      <td>0</td>\n      <td>0</td>\n      <td>0</td>\n      <td>0</td>\n      <td>0</td>\n      <td>0</td>\n      <td>0</td>\n      <td>0</td>\n      <td>107301</td>\n      <td>4.1</td>\n    </tr>\n  </tbody>\n</table>\n<p>5 rows × 184 columns</p>\n</div>"
     },
     "metadata": {},
     "execution_count": 38
    }
   ],
   "source": [
    "train_data.head()"
   ]
  },
  {
   "cell_type": "code",
   "execution_count": 39,
   "metadata": {},
   "outputs": [],
   "source": [
    "u_unique_train = train_data.User_ID.unique()\n",
    "train_data_user2idx = {o:i for i,o in enumerate(u_unique_train)}\n",
    "\n",
    "i_unique_train = train_data.book_id.unique()\n",
    "train_data_book2idx = {o:i for i,o in enumerate(i_unique_train)}\n",
    "\n",
    "u_unique_test = test_data.User_ID.unique()  \n",
    "test_data_user2idx = {o:i for i, o in enumerate(u_unique_test)}\n",
    "\n",
    "i_unique_test = test_data.book_id.unique() \n",
    "test_data_book2idx = {o:i for i, o in enumerate(i_unique_test)}"
   ]
  },
  {
   "cell_type": "code",
   "execution_count": 40,
   "metadata": {},
   "outputs": [],
   "source": [
    "# Training set\n",
    "train_data['u_unique'] = train_data['User_ID'].map(train_data_user2idx)\n",
    "train_data['i_unique'] = train_data['book_id'].map(train_data_book2idx)\n",
    "\n",
    "# Testing Set\n",
    "test_data['u_unique'] = test_data['User_ID'].map(test_data_user2idx)\n",
    "test_data['i_unique'] = test_data['book_id'].map(test_data_book2idx)\n",
    "\n",
    "train_data = train_data[['u_unique','i_unique','Book_Rating']]\n",
    "test_data = test_data[['u_unique','i_unique','Book_Rating']]"
   ]
  },
  {
   "cell_type": "code",
   "execution_count": 41,
   "metadata": {},
   "outputs": [
    {
     "output_type": "execute_result",
     "data": {
      "text/plain": [
       "         u_unique  i_unique  Book_Rating\n",
       "217020         89      2191          3.5\n",
       "1028885     29973       186          2.7\n",
       "844320      10593      8136          4.4\n",
       "168343        168        67          3.6\n",
       "97223         173       855          3.9"
      ],
      "text/html": "<div>\n<style scoped>\n    .dataframe tbody tr th:only-of-type {\n        vertical-align: middle;\n    }\n\n    .dataframe tbody tr th {\n        vertical-align: top;\n    }\n\n    .dataframe thead th {\n        text-align: right;\n    }\n</style>\n<table border=\"1\" class=\"dataframe\">\n  <thead>\n    <tr style=\"text-align: right;\">\n      <th></th>\n      <th>u_unique</th>\n      <th>i_unique</th>\n      <th>Book_Rating</th>\n    </tr>\n  </thead>\n  <tbody>\n    <tr>\n      <th>217020</th>\n      <td>89</td>\n      <td>2191</td>\n      <td>3.5</td>\n    </tr>\n    <tr>\n      <th>1028885</th>\n      <td>29973</td>\n      <td>186</td>\n      <td>2.7</td>\n    </tr>\n    <tr>\n      <th>844320</th>\n      <td>10593</td>\n      <td>8136</td>\n      <td>4.4</td>\n    </tr>\n    <tr>\n      <th>168343</th>\n      <td>168</td>\n      <td>67</td>\n      <td>3.6</td>\n    </tr>\n    <tr>\n      <th>97223</th>\n      <td>173</td>\n      <td>855</td>\n      <td>3.9</td>\n    </tr>\n  </tbody>\n</table>\n</div>"
     },
     "metadata": {},
     "execution_count": 41
    }
   ],
   "source": [
    "train_data.sample(5)"
   ]
  },
  {
   "source": [
    "### User-Item Matrix for train data"
   ],
   "cell_type": "markdown",
   "metadata": {}
  },
  {
   "cell_type": "code",
   "execution_count": 42,
   "metadata": {},
   "outputs": [],
   "source": [
    "n_users = train_data['u_unique'].nunique()\n",
    "n_books = train_data['i_unique'].nunique()\n",
    "\n",
    "train_matrix = np.zeros((n_users,n_books))\n",
    "\n",
    "for entry in train_data.itertuples():\n",
    "    train_matrix[entry[1]-1,entry[2]-1] = entry[3]"
   ]
  },
  {
   "cell_type": "code",
   "execution_count": 43,
   "metadata": {},
   "outputs": [
    {
     "output_type": "execute_result",
     "data": {
      "text/plain": [
       "(92298, 12841)"
      ]
     },
     "metadata": {},
     "execution_count": 43
    }
   ],
   "source": [
    "train_matrix.shape"
   ]
  },
  {
   "source": [
    "### User-Item Matrix for test data"
   ],
   "cell_type": "markdown",
   "metadata": {}
  },
  {
   "cell_type": "code",
   "execution_count": 50,
   "metadata": {},
   "outputs": [
    {
     "output_type": "error",
     "ename": "MemoryError",
     "evalue": "Unable to allocate 4.03 GiB for an array with shape (42136, 12841) and data type float64",
     "traceback": [
      "\u001b[1;31m---------------------------------------------------------------------------\u001b[0m",
      "\u001b[1;31mMemoryError\u001b[0m                               Traceback (most recent call last)",
      "\u001b[1;32m<ipython-input-50-d49356e20226>\u001b[0m in \u001b[0;36m<module>\u001b[1;34m\u001b[0m\n\u001b[0;32m      2\u001b[0m \u001b[0mn_books\u001b[0m \u001b[1;33m=\u001b[0m \u001b[0mtest_data\u001b[0m\u001b[1;33m[\u001b[0m\u001b[1;34m'i_unique'\u001b[0m\u001b[1;33m]\u001b[0m\u001b[1;33m.\u001b[0m\u001b[0mnunique\u001b[0m\u001b[1;33m(\u001b[0m\u001b[1;33m)\u001b[0m\u001b[1;33m\u001b[0m\u001b[1;33m\u001b[0m\u001b[0m\n\u001b[0;32m      3\u001b[0m \u001b[1;33m\u001b[0m\u001b[0m\n\u001b[1;32m----> 4\u001b[1;33m \u001b[0mtest_matrix\u001b[0m \u001b[1;33m=\u001b[0m \u001b[0mnp\u001b[0m\u001b[1;33m.\u001b[0m\u001b[0mzeros\u001b[0m\u001b[1;33m(\u001b[0m\u001b[1;33m(\u001b[0m\u001b[0mn_users\u001b[0m\u001b[1;33m,\u001b[0m\u001b[0mn_books\u001b[0m\u001b[1;33m)\u001b[0m\u001b[1;33m)\u001b[0m\u001b[1;33m\u001b[0m\u001b[1;33m\u001b[0m\u001b[0m\n\u001b[0m\u001b[0;32m      5\u001b[0m \u001b[1;33m\u001b[0m\u001b[0m\n\u001b[0;32m      6\u001b[0m \u001b[1;32mfor\u001b[0m \u001b[0mentry\u001b[0m \u001b[1;32min\u001b[0m \u001b[0mtest_data\u001b[0m\u001b[1;33m.\u001b[0m\u001b[0mitertuples\u001b[0m\u001b[1;33m(\u001b[0m\u001b[1;33m)\u001b[0m\u001b[1;33m:\u001b[0m\u001b[1;33m\u001b[0m\u001b[1;33m\u001b[0m\u001b[0m\n",
      "\u001b[1;31mMemoryError\u001b[0m: Unable to allocate 4.03 GiB for an array with shape (42136, 12841) and data type float64"
     ]
    }
   ],
   "source": [
    "n_users = test_data['u_unique'].nunique()\n",
    "n_books = test_data['i_unique'].nunique()\n",
    "\n",
    "test_matrix = np.zeros((n_users,n_books))\n",
    "\n",
    "for entry in test_data.itertuples():\n",
    "    test_matrix[entry[1]-1,entry[2]-1] = entry[3]"
   ]
  },
  {
   "cell_type": "code",
   "execution_count": 49,
   "metadata": {},
   "outputs": [
    {
     "output_type": "execute_result",
     "data": {
      "text/plain": [
       "(42136, 12841)"
      ]
     },
     "metadata": {},
     "execution_count": 49
    }
   ],
   "source": [
    "test_matrix.shape"
   ]
  },
  {
   "source": [
    "### Cosine Similarity Based Recommendation System"
   ],
   "cell_type": "markdown",
   "metadata": {}
  },
  {
   "source": [
    "A distance metric commonly used in recommender systems is cosine similarity, where the ratings are seen as vectors in n-dimensional space and the similarity is calculated based on the angle between these vectors.\n",
    "\n",
    "To make item-item similarity we need to take the transpose of the matrix."
   ],
   "cell_type": "markdown",
   "metadata": {}
  },
  {
   "cell_type": "code",
   "execution_count": 51,
   "metadata": {},
   "outputs": [],
   "source": [
    "train_matrix_small = train_matrix[:5000,:5000]\n",
    "test_matrix_small = train_matrix[:5000,:5000]\n",
    "\n",
    "from sklearn.metrics.pairwise import pairwise_distances\n",
    "\n",
    "user_similarity = pairwise_distances(train_matrix_small,metric='cosine')\n",
    "item_similarity = pairwise_distances(train_matrix_small.T,metric='cosine')"
   ]
  },
  {
   "source": [
    "Now I'll define a function to predict the similarity :"
   ],
   "cell_type": "markdown",
   "metadata": {}
  },
  {
   "cell_type": "code",
   "execution_count": 56,
   "metadata": {},
   "outputs": [],
   "source": [
    "def predict_books(ratings,similarity, type='user'):\n",
    "    if type == 'user':\n",
    "        mean_user_rating = ratings.mean(axis=1)\n",
    "        ratings_diff = (ratings - mean_user_rating[:,np.newaxis])\n",
    "        pred = mean_user_rating[:,np.newaxis] + similarity.dot(ratings_diff)/np.array([np.abs(similarity).sum(axis=1)]).T\n",
    "\n",
    "    elif type == 'item':\n",
    "        pred = ratings.dot(similarity) / np.array([np.abs(similarity).sum(axis=1)])\n",
    "    return pred"
   ]
  },
  {
   "cell_type": "code",
   "execution_count": 57,
   "metadata": {},
   "outputs": [],
   "source": [
    "item_prediction = predict_books(train_matrix_small,item_similarity,type='item')\n",
    "user_prediction = predict_books(train_matrix_small,user_similarity, type='user')"
   ]
  },
  {
   "source": [
    "## Evaluation"
   ],
   "cell_type": "markdown",
   "metadata": {}
  },
  {
   "cell_type": "code",
   "execution_count": 59,
   "metadata": {},
   "outputs": [
    {
     "output_type": "stream",
     "name": "stdout",
     "text": [
      "item-based CF RMSE: 3.4187552052750445\n",
      "User-based CF RMSE: 3.41456467705793\n"
     ]
    }
   ],
   "source": [
    "from sklearn.metrics import mean_squared_error\n",
    "from math import sqrt\n",
    "\n",
    "def rmse(prediction, test_matrix):\n",
    "    prediction = prediction[test_matrix.nonzero()].flatten()\n",
    "    test_matrix = test_matrix[test_matrix.nonzero()].flatten()\n",
    "    return sqrt(mean_squared_error(prediction,test_matrix))\n",
    "\n",
    "print(f'item-based CF RMSE: {rmse(item_prediction,test_matrix_small)}')\n",
    "print(f'User-based CF RMSE: {rmse(user_prediction,test_matrix_small)}')"
   ]
  },
  {
   "source": [
    "### SVD Based Recommendation System"
   ],
   "cell_type": "markdown",
   "metadata": {}
  },
  {
   "cell_type": "code",
   "execution_count": 62,
   "metadata": {},
   "outputs": [],
   "source": [
    "from surprise import Reader,Dataset\n",
    "\n",
    "reader = Reader(rating_scale=(1,10))\n",
    "data = Dataset.load_from_df(rating_data,reader)"
   ]
  },
  {
   "cell_type": "code",
   "execution_count": 63,
   "metadata": {},
   "outputs": [
    {
     "output_type": "stream",
     "name": "stdout",
     "text": [
      "Evaluating RMSE of algorithm SVD on 5 split(s).\n\n                  Fold 1  Fold 2  Fold 3  Fold 4  Fold 5  Mean    Std     \nRMSE (testset)    0.8917  0.8936  0.8943  0.8929  0.8931  0.8931  0.0009  \nFit time          126.04  114.57  107.11  107.82  102.29  111.57  8.23    \nTest time         4.99    4.06    3.25    4.07    4.64    4.20    0.59    \nWall time: 9min 58s\n"
     ]
    },
    {
     "output_type": "execute_result",
     "data": {
      "text/plain": [
       "{'test_rmse': array([0.89172752, 0.89364654, 0.89429571, 0.89292746, 0.89305253]),\n",
       " 'fit_time': (126.03868961334229,\n",
       "  114.56608319282532,\n",
       "  107.11226558685303,\n",
       "  107.82203984260559,\n",
       "  102.29101872444153),\n",
       " 'test_time': (4.988168716430664,\n",
       "  4.062807321548462,\n",
       "  3.2534172534942627,\n",
       "  4.072403907775879,\n",
       "  4.637336492538452)}"
      ]
     },
     "metadata": {},
     "execution_count": 63
    }
   ],
   "source": [
    "from surprise import SVD,model_selection,accuracy\n",
    "\n",
    "model = SVD()\n",
    "\n",
    "%time model_selection.cross_validate(model,data,measures=['RMSE'],cv=5,verbose=True)"
   ]
  },
  {
   "source": [
    "### Train - Test Split"
   ],
   "cell_type": "markdown",
   "metadata": {}
  },
  {
   "cell_type": "code",
   "execution_count": 64,
   "metadata": {},
   "outputs": [
    {
     "output_type": "stream",
     "name": "stdout",
     "text": [
      "RMSE: 0.8912\n"
     ]
    },
    {
     "output_type": "execute_result",
     "data": {
      "text/plain": [
       "0.8911818069839095"
      ]
     },
     "metadata": {},
     "execution_count": 64
    }
   ],
   "source": [
    "trainset, testset = model_selection.train_test_split(data, test_size= 0.2)\n",
    "\n",
    "model = SVD()\n",
    "\n",
    "model.fit(trainset)\n",
    "predictions = model.test(testset)\n",
    "\n",
    "accuracy.rmse(predictions)"
   ]
  },
  {
   "source": [
    "### TESTING RESULT"
   ],
   "cell_type": "markdown",
   "metadata": {}
  },
  {
   "source": [
    "Let's take an arbitrary user-id and item-id to test our model.\n",
    "\n"
   ],
   "cell_type": "markdown",
   "metadata": {}
  },
  {
   "cell_type": "code",
   "execution_count": 81,
   "metadata": {},
   "outputs": [
    {
     "output_type": "stream",
     "name": "stdout",
     "text": [
      "user: 276726     item: 23266533   r_ui = None   est = 3.63   {'was_impossible': False}\n"
     ]
    }
   ],
   "source": [
    "uid = 276726\n",
    "iid = '23266533'\n",
    "pred = model.predict(uid,iid,verbose=True)"
   ]
  },
  {
   "cell_type": "code",
   "execution_count": 79,
   "metadata": {},
   "outputs": [
    {
     "output_type": "execute_result",
     "data": {
      "text/plain": [
       "   User_ID   book_id  Book_Rating\n",
       "0   276725  26895596          2.4\n",
       "1   276726  23266533          4.9\n",
       "2   276727    386568          3.4\n",
       "3   276729   1133955          3.4\n",
       "4   276729  11389275          2.6"
      ],
      "text/html": "<div>\n<style scoped>\n    .dataframe tbody tr th:only-of-type {\n        vertical-align: middle;\n    }\n\n    .dataframe tbody tr th {\n        vertical-align: top;\n    }\n\n    .dataframe thead th {\n        text-align: right;\n    }\n</style>\n<table border=\"1\" class=\"dataframe\">\n  <thead>\n    <tr style=\"text-align: right;\">\n      <th></th>\n      <th>User_ID</th>\n      <th>book_id</th>\n      <th>Book_Rating</th>\n    </tr>\n  </thead>\n  <tbody>\n    <tr>\n      <th>0</th>\n      <td>276725</td>\n      <td>26895596</td>\n      <td>2.4</td>\n    </tr>\n    <tr>\n      <th>1</th>\n      <td>276726</td>\n      <td>23266533</td>\n      <td>4.9</td>\n    </tr>\n    <tr>\n      <th>2</th>\n      <td>276727</td>\n      <td>386568</td>\n      <td>3.4</td>\n    </tr>\n    <tr>\n      <th>3</th>\n      <td>276729</td>\n      <td>1133955</td>\n      <td>3.4</td>\n    </tr>\n    <tr>\n      <th>4</th>\n      <td>276729</td>\n      <td>11389275</td>\n      <td>2.6</td>\n    </tr>\n  </tbody>\n</table>\n</div>"
     },
     "metadata": {},
     "execution_count": 79
    }
   ],
   "source": [
    "rating_data.head()"
   ]
  },
  {
   "cell_type": "code",
   "execution_count": 80,
   "metadata": {},
   "outputs": [
    {
     "output_type": "stream",
     "name": "stdout",
     "text": [
      "The estimated rating for the book with book_id code 6620794 from user #276813 is 3.51.\n\n"
     ]
    },
    {
     "output_type": "error",
     "ename": "IndexError",
     "evalue": "index 0 is out of bounds for axis 0 with size 0",
     "traceback": [
      "\u001b[1;31m---------------------------------------------------------------------------\u001b[0m",
      "\u001b[1;31mIndexError\u001b[0m                                Traceback (most recent call last)",
      "\u001b[1;32m<ipython-input-80-8dda4055736a>\u001b[0m in \u001b[0;36m<module>\u001b[1;34m\u001b[0m\n\u001b[0;32m      1\u001b[0m \u001b[0mprint\u001b[0m\u001b[1;33m(\u001b[0m\u001b[1;34mf'The estimated rating for the book with book_id code {pred.iid} from user #{pred.uid} is {pred.est:.2f}.\\n'\u001b[0m\u001b[1;33m)\u001b[0m\u001b[1;33m\u001b[0m\u001b[1;33m\u001b[0m\u001b[0m\n\u001b[0;32m      2\u001b[0m \u001b[1;33m\u001b[0m\u001b[0m\n\u001b[1;32m----> 3\u001b[1;33m \u001b[0mactual_rtg\u001b[0m \u001b[1;33m=\u001b[0m \u001b[0mrating_data\u001b[0m\u001b[1;33m[\u001b[0m\u001b[1;33m(\u001b[0m\u001b[0mrating_data\u001b[0m\u001b[1;33m.\u001b[0m\u001b[0mUser_ID\u001b[0m \u001b[1;33m==\u001b[0m \u001b[0mpred\u001b[0m\u001b[1;33m.\u001b[0m\u001b[0muid\u001b[0m\u001b[1;33m)\u001b[0m \u001b[1;33m&\u001b[0m \u001b[1;33m(\u001b[0m\u001b[0mrating_data\u001b[0m\u001b[1;33m.\u001b[0m\u001b[0mbook_id\u001b[0m\u001b[1;33m==\u001b[0m\u001b[0mpred\u001b[0m\u001b[1;33m.\u001b[0m\u001b[0miid\u001b[0m\u001b[1;33m)\u001b[0m\u001b[1;33m]\u001b[0m\u001b[1;33m.\u001b[0m\u001b[0mBook_Rating\u001b[0m\u001b[1;33m.\u001b[0m\u001b[0mvalues\u001b[0m\u001b[1;33m[\u001b[0m\u001b[1;36m0\u001b[0m\u001b[1;33m]\u001b[0m\u001b[1;33m\u001b[0m\u001b[1;33m\u001b[0m\u001b[0m\n\u001b[0m\u001b[0;32m      4\u001b[0m \u001b[0mprint\u001b[0m\u001b[1;33m(\u001b[0m\u001b[1;34mf'The real rating given for this was {actual_rtg:.2f}.'\u001b[0m\u001b[1;33m)\u001b[0m\u001b[1;33m\u001b[0m\u001b[1;33m\u001b[0m\u001b[0m\n",
      "\u001b[1;31mIndexError\u001b[0m: index 0 is out of bounds for axis 0 with size 0"
     ]
    }
   ],
   "source": [
    "print(f'The estimated rating for the book with book_id code {pred.iid} from user #{pred.uid} is {pred.est:.2f}.\\n')\n",
    "\n",
    "actual_rtg = rating_data[(rating_data.User_ID == pred.uid) & (rating_data.book_id==pred.iid)].Book_Rating.values[0]\n",
    "print(f'The real rating given for this was {actual_rtg:.2f}.')"
   ]
  },
  {
   "cell_type": "code",
   "execution_count": 82,
   "metadata": {},
   "outputs": [],
   "source": [
    "from collections import defaultdict\n",
    "\n",
    "def get_top_n(predictions, n=10):\n",
    "    top_n = defaultdict(list)\n",
    "    for uid, iid, true_r, est, _ in predictions:\n",
    "        top_n[uid].append((iid,est))\n",
    "    for uid, user_ratings in top_n.items():\n",
    "        user_ratings.sort(key = lambda x:x[1], reverse = True)\n",
    "        top_n[uid] = user_ratings[:n]\n",
    "    return top_n"
   ]
  },
  {
   "cell_type": "code",
   "execution_count": 83,
   "metadata": {},
   "outputs": [],
   "source": [
    "pred = model.test(testset)\n",
    "top_n = get_top_n(pred)"
   ]
  },
  {
   "cell_type": "code",
   "execution_count": 88,
   "metadata": {},
   "outputs": [],
   "source": [
    "def get_reading_list(userid):\n",
    "    reading_list = defaultdict(list)\n",
    "    top_n = get_top_n(pred,n=10)\n",
    "    for n in top_n[userid]:\n",
    "        book, rating = n\n",
    "        title = new_book_dataset.loc[new_book_dataset.book_id == book].book_name.unique()[0]\n",
    "        reading_list[title] = rating\n",
    "    return reading_list"
   ]
  },
  {
   "cell_type": "code",
   "execution_count": 65,
   "metadata": {},
   "outputs": [
    {
     "output_type": "stream",
     "name": "stdout",
     "text": [
      "Sufferings in Africa: The Incredible True Story of a Shipwreck, Enslavement, and Survival on the Sahara:4.0\nHandles:4.0\nTo Dance with the White Dog:3.9\nTimes of Contempt:3.9\nMaya the Bee:3.9\nMaza of the Moon:3.8\nBeasts of No Nation:3.8\nBirds of Prey:3.8\nJust Call Me Stupid:3.8\nEmma in Winter:3.8\n"
     ]
    }
   ],
   "source": [
    "example_reading_list = get_reading_list(userid=107301)\n",
    "for book,rating in example_reading_list.items():\n",
    "    print(f'{book}:{round(rating,1)}')"
   ]
  },
  {
   "cell_type": "code",
   "execution_count": null,
   "metadata": {},
   "outputs": [],
   "source": []
  }
 ]
}